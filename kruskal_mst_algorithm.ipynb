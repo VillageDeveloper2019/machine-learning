{
 "cells": [
  {
   "cell_type": "markdown",
   "metadata": {},
   "source": [
    "### Python program for Kruskal's algorithm to find  Minimum Spanning Tree of a given connected,  undirected and weighted graph\n",
    "\n",
    "1. The Washimore County Transportation Commission is planning to develop a road system\n",
    "linking ten major cities in the state. Two proposals are under consideration:\n",
    "\n",
    "• A series of six-lane super-streets linking all 10 cities shown in the figure. Superstreets are estimated to cost $600,000 per mile to build.\n",
    "\n",
    "• A ten-lane east-west freeway extension connecting City 1 with City 9 (which does\n",
    "not necessarily pass through all 10 cities.) Each mile of the freeway will cost\n",
    "$800,000.\n",
    "\n",
    "Assuming costs should be minimized, which proposal should be implemented? Justify\n",
    "your answer. (Figures next to arc (i, j) is the mileage from i to j.)"
   ]
  },
  {
   "cell_type": "code",
   "execution_count": 1,
   "metadata": {},
   "outputs": [],
   "source": [
    "from collections import defaultdict\n",
    "class Graph(object): \n",
    "    def __init__(self, vertices):\n",
    "        self.V = vertices  # number of vertices/nodes in the grapgh\n",
    "        self.graph = list()  # intialize a list to store  the grapgh\n",
    "        \n",
    "    #function to add an edge to graph\n",
    "    def addEdge(self, u, v, w):\n",
    "        self.graph.append([u, v, w])\n",
    " \n",
    "    # A utility function to find set of an element i (uses path compression technique)\n",
    "    def find(self, parent, i):\n",
    "        if parent[i] == i:\n",
    "            return i\n",
    "        return self.find(parent, parent[i])\n",
    " \n",
    "    # A function that does union of two sets of x and y (uses union by rank)\n",
    "    def union(self, parent, rank, i, j):\n",
    "        ipredecessor = self.find(parent, i)\n",
    "        jpredecessor = self.find(parent, j)\n",
    " \n",
    "        # Attach smaller rank tree under root of high rank tree (Union by Rank)\n",
    "        if rank[ipredecessor] < rank[jpredecessor]:\n",
    "            parent[ipredecessor] = jpredecessor\n",
    "        elif rank[ipredecessor] > rank[jpredecessor]:\n",
    "            parent[jpredecessor] = ipredecessor\n",
    " \n",
    "        # If ranks are same, then make one as root\n",
    "        # and increment its rank by one\n",
    "        else:\n",
    "            parent[jpredecessor] = ipredecessor\n",
    "            rank[ipredecessor] += 1\n",
    " \n",
    "    def KruskalMST(self): \n",
    "        #graph is sorted from least weighted edges(arcs) to higest weighted edges  \n",
    "        self.graph = sorted(self.graph,key=lambda item: item[2])                          \n",
    "        # initialize nodes parents\n",
    "        parent = [node for node in range(self.V)]\n",
    "        rank = [0]*len(parent) #initialize node rank\n",
    "        T = list()  # initialize MST results\n",
    "        edge_index = 0 # An index variable, used for sorted edges\n",
    "        minimum_miles = 0 #initialize cost\n",
    "         \n",
    "        while len(T) < self.V-2:  # V-1 number of edges to consider (note list index starts from zero). \n",
    "            u, v, w = self.graph[edge_index] #choose least weighted arc(path)\n",
    "            edge_index += 1\n",
    "            i = self.find(parent, u) #side of arc in T\n",
    "            j = self.find(parent, v) #side of arc in unexamined edges\n",
    "            if i != j: #if this does not form a cycle\n",
    "                T.append([u, v, w])\n",
    "                self.union(parent, rank, i, j) \n",
    "\n",
    "        print (\"Edges in the MST\")\n",
    "        for u, v, weight in T:\n",
    "            minimum_miles += weight\n",
    "            print(\"%d -- %d == %d\" % (u, v, weight))\n",
    "        print(\"Minimum Spanning Tree miles = \" , minimum_miles)\n",
    "        print(\"Minimum Spanning Tree cost($) = \" , minimum_miles*600000) #cost is $600,000 per mile"
   ]
  },
  {
   "cell_type": "code",
   "execution_count": 2,
   "metadata": {},
   "outputs": [],
   "source": [
    "#construct the grapgh\n",
    "g = Graph(11)\n",
    "g.addEdge(1, 2, 15)\n",
    "g.addEdge(1, 3, 12)\n",
    "g.addEdge(1, 10, 17)\n",
    "g.addEdge(2, 4, 6)\n",
    "g.addEdge(2, 5, 8)\n",
    "g.addEdge(3, 5, 10)\n",
    "g.addEdge(3, 6, 10)\n",
    "g.addEdge(3, 10, 13)\n",
    "g.addEdge(4, 5, 12)\n",
    "g.addEdge(4, 7, 15)\n",
    "g.addEdge(5, 6, 11)\n",
    "g.addEdge(5, 7, 14)\n",
    "g.addEdge(5, 8, 12)\n",
    "g.addEdge(5, 9, 16)\n",
    "g.addEdge(6, 8, 7)\n",
    "g.addEdge(6, 10, 9)\n",
    "g.addEdge(7, 9, 13)\n",
    "g.addEdge(8, 9, 11)\n",
    "g.addEdge(8, 10, 12)\n",
    "g.addEdge(9, 10, 20)"
   ]
  },
  {
   "cell_type": "code",
   "execution_count": 3,
   "metadata": {},
   "outputs": [
    {
     "name": "stdout",
     "output_type": "stream",
     "text": [
      "Edges in the MST\n",
      "2 -- 4 == 6\n",
      "6 -- 8 == 7\n",
      "2 -- 5 == 8\n",
      "6 -- 10 == 9\n",
      "3 -- 5 == 10\n",
      "3 -- 6 == 10\n",
      "8 -- 9 == 11\n",
      "1 -- 3 == 12\n",
      "7 -- 9 == 13\n",
      "Minimum Spanning Tree miles =  86\n",
      "Minimum Spanning Tree cost($) =  51600000\n"
     ]
    }
   ],
   "source": [
    "g.KruskalMST()"
   ]
  },
  {
   "cell_type": "code",
   "execution_count": null,
   "metadata": {},
   "outputs": [],
   "source": []
  }
 ],
 "metadata": {
  "kernelspec": {
   "display_name": "Python 3",
   "language": "python",
   "name": "python3"
  },
  "language_info": {
   "codemirror_mode": {
    "name": "ipython",
    "version": 3
   },
   "file_extension": ".py",
   "mimetype": "text/x-python",
   "name": "python",
   "nbconvert_exporter": "python",
   "pygments_lexer": "ipython3",
   "version": "3.9.4"
  }
 },
 "nbformat": 4,
 "nbformat_minor": 4
}

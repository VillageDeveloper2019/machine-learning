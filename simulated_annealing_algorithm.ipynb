{
 "cells": [
  {
   "cell_type": "markdown",
   "metadata": {},
   "source": [
    "\n",
    "## Author MArktus Atanga\n",
    "\n",
    "### __The simulated annealing algorithm__\n",
    "\n",
    "The simulated annealing algorithm is a random approached to unconstrained optimization and is inspired by the annealing process used in metallurgy. meallurgy is a domain of materials science and engineering that studies the physical and chemical behavior of metallic elements, their inter-metallic compounds, and their mixtures, which are known as alloys. https://en.wikipedia.org/wiki/Metallurgy\n",
    "\n",
    "In metallurgy and materials science, annealing is a heat treatment that alters the physical and sometimes chemical properties of a material to increase its ductility and reduce its hardness, making it more workable. If the cooling process is done very slowly, internal stresses can be avoided, thereby creating a very strong metal. Internal stresses generate weak points for failure (cracks) to occur. The thermodynamic underpinning of annealing is the difussion of atoms within the metal such that the material progresses to an equilibrium state. Annealing occurs in three stages; recovery, recrystallization, and grain growth.Each of this stage ensures different properties are developed in the metal. The nature of the cooling is determined by the cooling/annealing schedule (the control of the cooling temperatue). By lowering temperature, it lowers the enegy of the system and draws it to an equilibrium state. \n",
    "There are three widely used forms of the annealing schedules; \n",
    "\n",
    "__1. Geometric__: $T(t) = T_{0}{\\alpha}^t, \\;\\; \\; \\;        0<\\alpha<1, \\; \\; \\; t = 1, 2, ..., t_{f}$. Practioners suggest an ${\\alpha} {\\in} [0.75, 0.95]$\n",
    "\n",
    "__2. Linear__: $T(t) = T_{0} -{\\beta}t.   \\;  \\;  \\; \\;   Where \\; \\; \\beta = \\frac{T_{0}-T_{min}}{T_{f}}$\n",
    "\n",
    "__3. Inverse Linear__: $T(t) = \\frac{T_{0}}{1+ \\gamma{t}}.   \\;  \\;  \\; \\;  \\gamma >0, \\; \\; \\; t = 1, 2, ..., t_{f}$\n",
    "\n",
    "__The Simulated Annealing Algorithm (SA)__ is a trajecory based (Markov chain by random walk) stochastic algorithm that is inspired by the annealing process. The algorithm can be shown to converge to a global optimum given enough randomness combined with slow cooling. For this algorithm, a better solution is always accepted while a worst solution is accepted with some positive probability.\n",
    "\n",
    "The SA algorithm in its basic form consists of the following steps:\n",
    "\n",
    "1. Generate an initial solution at random, called it $x$\n",
    "\n",
    "\n",
    "2. Determine an intitial temperature T (high temperature) and a final temperature $T_{min}$ (a low temperature. Keep in mind that annealing is a cooling process, so the algorithm progresses from higher temperature to lower temperature. \n",
    "\n",
    "    2.1. The choice of the initial temperature is criticaly important to the success of the SA algorithm. Minimum may not be obatined if the initial temperature is too high and the algorithm could easily get stuck in a local minimum if the initial temperature is too low. A suitable initial temperature ($T_{0}$) is obtained such that the probability of accepting a move is equal to a predtermined high $P_{0}$ during the first stage of cooling (some L steps). Typical value for $P_{0} \\approx 0.8$. Run the algorithm for L-steps without rejecting any moves and compute the average of the objective funtion the L number of steps, $\\Delta_{f}$. $T_{0} = -\\frac{\\Delta_{f}}{\\ln{P_{0}}}$\n",
    "    \n",
    "    2.2.1 The final temperature can be determined by total number of different temperature vallues to be used\n",
    "    \n",
    "    2.2.2 The final temperature can also be determine by stopping the algorithm when it ceases to make progress. Lack of progress is defined by no improvement found at one temperature and/or an acceptance ratio falling below user-specicied small value $p_{r}$.\n",
    "    \n",
    "\n",
    "3. Determine the number iterations to run at a given temperatture (T), call this $i_{max}(T)$. if too few iterations are used, the method may not converge to a global optimum and the method becomes computationally expensive if too many iterations are used. Thus, the number of iterations have to be \"approximately\" right. The common ways are\n",
    "\n",
    "    3.1. A fixed number of iterations at each temperature\n",
    "    \n",
    "    3.2. Vary the number of iterations at each temperature. As the temperature cools, the number of iterations increase, thereby allowing one to fully explore the neighborhood of a given solution.\n",
    "    \n",
    "    \n",
    "4. Calculate the objective function value at the genrated solution x,  $\\phi{(x)} = f(x) + rP(x)$, where P(x) is a penalty term.\n",
    "\n",
    "\n",
    "5. Set old_cost = $\\phi{(x)}$\n",
    "\n",
    "\n",
    "6. While $T > T_{min}$:\n",
    "    \n",
    "        Execute the main loop of operations discussed below.\n",
    "    \n",
    "   End while\n",
    "   \n",
    "7. Main loop of the algorithm:\n",
    "    \n",
    "    Set iteration counter i = 1\n",
    "    \n",
    "    while i <= $i_{max}(T)$:\n",
    "        \n",
    "      Generate $x^\\prime$ = neighborhood(x)\n",
    "        \n",
    "      Calculate the objective function  $\\phi{(x^\\prime)}$     \n",
    "        \n",
    "      Set new_cost = $\\phi{(x^\\prime)}$\n",
    "      \n",
    "      If new_cost <= odl_cost:\n",
    "      \n",
    "      set x = $x^\\prime$\n",
    "      \n",
    "      old_cost = new_cost\n",
    "      \n",
    "      Else:\n",
    "      \n",
    "      $\\Delta{f} = new_cost - old_cost$\n",
    "      \n",
    "      $p = \\exp(\\frac{-\\Delta{f}}{T})$; where p is the Metropolis acceptance criterion\n",
    "      \n",
    "      Select a number r, uniformly and at random from [0, 1]\n",
    "      \n",
    "      if p>r:\n",
    "      \n",
    "      $set \\;  \\; x = x^\\prime$\n",
    "      \n",
    "      set old_cost = new_cost\n",
    "      \n",
    "      End if\n",
    "      \n",
    "      End if\n",
    "      \n",
    "     set i = i+1\n",
    "     \n",
    "    End while\n",
    "    \n",
    "    Reduce the T according to the annealing schedule \n",
    "    \n",
    "### About the Metropolis acceptance criterion"
   ]
  },
  {
   "cell_type": "code",
   "execution_count": 1,
   "metadata": {},
   "outputs": [
    {
     "data": {
      "text/plain": [
       "'%.2f'"
      ]
     },
     "execution_count": 1,
     "metadata": {},
     "output_type": "execute_result"
    }
   ],
   "source": [
    "import numpy as np\n",
    "import pandas as pd\n",
    "from random import random, gauss, uniform\n",
    "pd.options.display.float_format = '{:,.4f}'.format\n",
    "pd.set_option('precision', 7)\n",
    "%precision %.2f"
   ]
  },
  {
   "cell_type": "code",
   "execution_count": 60,
   "metadata": {},
   "outputs": [],
   "source": [
    "def generate_init_solution(lower_bound, upper_bound, dimension):\n",
    "    return list(np.random.uniform(lower_bound, upper_bound, dimension))\n",
    "\n",
    "def get_neighborhood(soultion, dimension):\n",
    "    \"\"\"\n",
    "    Given the current x, a neighbor of this point is created using the formula\n",
    "    x + (2r1 − 1)*[1,0] + (2r2 − 1)*[0, 1] \n",
    "    wgere r1, r2 are random draws from a uniform distribution over the interval [0,1]\n",
    "    \"\"\"\n",
    "    neighbor_solution = [0]*dimension #initialize neighbors\n",
    "    r = np.random.uniform(0, 1, dimension) #random draw uniform distribution\n",
    "    for i in range(0, dimension):\n",
    "        neighbor_solution[i] = soultion[i]+(2*r[i]-1)\n",
    "    return neighbor_solution\n",
    "    \n",
    "def objective_funtion(X):\n",
    "    obj_value = 2*X[0]**2 + X[0]**3 + 4*X[1]**2 + X[1]**3\n",
    "    return obj_value\n",
    "\n",
    "def initial_temperature(solution):\n",
    "    numb_vars = len(solution)\n",
    "    save_objective = []\n",
    "    p_0 = 0.8\n",
    "    i = 1\n",
    "    while i <= 100: # L= 100 iterations\n",
    "        new_solution = get_neighborhood(solution, numb_vars)\n",
    "        objective_value =  objective_funtion(new_solution)       \n",
    "        solution = new_solution\n",
    "        save_objective.append(solution)\n",
    "        i = i+1\n",
    "    init_temp = -np.mean(save_objective)/np.log(p_0)\n",
    "    return init_temp\n",
    "\n",
    "def cooling_curve(Tmax, iter_num):\n",
    "    \"\"\"\n",
    "    The cooling curve in this example is a function of the maximum temperature. \n",
    "    It returns the temperature at the ith iteration    \n",
    "    \"\"\"\n",
    "    cooling = 0.75**iter_num*Tmax\n",
    "    return cooling\n",
    "\n",
    "def geometric_cooling(Tmax, iter_num, beta=None):\n",
    "    if alpha==None:\n",
    "        alpha = np.random.uniform(0.75, 0.95, 1) #draw alpha from [0.75, 0.95]\n",
    "        cooling = Tmax*alpha**iter_num\n",
    "    return cooling\n",
    "\n",
    "def linear_cooling(Tmax, iter_num, alpha=None):\n",
    "        alpha = np.random.uniform(0.75, 0.95, 1) #draw alpha from [0.75, 0.95]\n",
    "        cooling = Tmax - (iter_num)\n",
    "    return cooling\n",
    "\n",
    "def inverse_cooling(Tmax, iter_num, Gamma=None):\n",
    "        Gamma = np.random.uniform(0.75, 0.95, 1) #draw alpha from [0.75, 0.95]\n",
    "        cooling = Tmax/(1+gamma*iter_num)\n",
    "    return cooling\n",
    "\n",
    "def final_temperature():\n",
    "    \n",
    "    return\n",
    "\n",
    "def penalty(solution):\n",
    "    penalties = 𝑟*𝑃(solution)\n",
    "    return penalties"
   ]
  },
  {
   "cell_type": "code",
   "execution_count": 61,
   "metadata": {},
   "outputs": [
    {
     "data": {
      "text/plain": [
       "123.07354985891902"
      ]
     },
     "execution_count": 61,
     "metadata": {},
     "output_type": "execute_result"
    }
   ],
   "source": [
    "init_sol = generate_init_solution(lower_bound=0, upper_bound=100, dimension=2)\n",
    "initial_temperature(init_sol)"
   ]
  },
  {
   "cell_type": "code",
   "execution_count": 77,
   "metadata": {
    "scrolled": false
   },
   "outputs": [],
   "source": [
    "def simulated_annealing(solution, Tmin, Tmax, alpha=None, beta=None, gamma=None, imax):\n",
    "    old_cost = objective_funtion(solution) #calculate the objective function value\n",
    "    numb_vars = len(solution)\n",
    "    solution_saved, obj_saved = [], []\n",
    "    print('initial values','f(%s) = %.3f' % (solution, old_cost))\n",
    "    T = Tmax\n",
    "    j = 1\n",
    "    while T > Tmin: #50 is a chosen final temperature\n",
    "        print('at T = ', T)\n",
    "        i = 1\n",
    "        while i <= imax: #number of iterations at a given temperature\n",
    "            new_solution = get_neighborhood(solution, numb_vars)  #calculate the neigbhorhood value\n",
    "            objective_value =  objective_funtion(new_solution)\n",
    "            new_cost = objective_value\n",
    "            \n",
    "            if new_cost <= old_cost:\n",
    "                solution, old_cost = new_solution, new_cost\n",
    "            deltaf = new_cost-old_cost\n",
    "        \n",
    "            #Calculate Metropolis acceptance probability\n",
    "            metropolis = np.exp(-deltaf/T) \n",
    "            random_numb = np.random.uniform(0, 1, 1)\n",
    "            \n",
    "            if metropolis > random_numb:\n",
    "                solution, old_cost=new_solution, new_cost\n",
    "            solution_saved.append(solution); obj_saved.append(old_cost) \n",
    "            print('>%d  T=%.3f, delta=%0.3f,  metropolis=%.3f, random_numb=%0.3f, f(%s)=%.3f'%(\n",
    "                i, T, deltaf, metropolis, random_numb, solution, old_cost))\n",
    "            i = i+1\n",
    "        print() \n",
    "        j = j+1\n",
    "        #T = cooling_curve(Tmax, j) #reduce temperature using the cooling curve\n",
    "        T = geometric_cooling(Tmax, j)\n",
    "        \n",
    "    return solution_saved, obj_saved"
   ]
  },
  {
   "cell_type": "code",
   "execution_count": 78,
   "metadata": {},
   "outputs": [
    {
     "name": "stdout",
     "output_type": "stream",
     "text": [
      "initial values f([-0.5, -0.5]) = 1.250\n",
      "at T =  237.4895998766012\n",
      ">1  T=237.490, delta=2.560,  metropolis=0.989, random_numb=0.912, f([-0.7161931905667789, -1.0300353636857258])=3.810\n",
      ">2  T=237.490, delta=0.000,  metropolis=1.000, random_numb=0.174, f([-1.2715836785793042, -0.9246994869907303])=3.807\n",
      ">3  T=237.490, delta=0.000,  metropolis=1.000, random_numb=0.390, f([-1.1571131868049296, -0.04094261761792617])=1.135\n",
      "\n",
      "at T =  [161.23572502]\n",
      ">1  T=161.236, delta=0.486,  metropolis=0.997, random_numb=0.168, f([-1.4226479324347925, -0.35218044792869874])=1.621\n",
      ">2  T=161.236, delta=0.000,  metropolis=1.000, random_numb=0.048, f([-0.7633327128964671, -0.17932888574924877])=0.843\n",
      ">3  T=161.236, delta=0.312,  metropolis=0.998, random_numb=0.841, f([-1.5828015794600785, -0.16938338283703147])=1.155\n",
      "\n",
      "at T =  [122.49135705]\n",
      ">1  T=122.491, delta=1.583,  metropolis=0.987, random_numb=0.059, f([-1.298995286096792, -0.6848939263934974])=2.738\n",
      ">2  T=122.491, delta=0.000,  metropolis=1.000, random_numb=0.549, f([-1.5053789734669718, -0.3821372103776184])=1.649\n",
      ">3  T=122.491, delta=0.928,  metropolis=0.992, random_numb=0.550, f([-2.256650415557906, -1.171944030802304])=2.577\n",
      "\n",
      "at T =  [134.17503761]\n",
      ">1  T=134.175, delta=0.000,  metropolis=1.000, random_numb=0.708, f([-3.054713945307281, -1.9572359681547846])=-2.016\n",
      ">2  T=134.175, delta=0.424,  metropolis=0.997, random_numb=0.468, f([-2.812101402646053, -1.3499589920415545])=-1.593\n",
      ">3  T=134.175, delta=0.000,  metropolis=1.000, random_numb=0.425, f([-3.0853124828265237, -1.0025978959503792])=-7.318\n",
      "\n",
      "at T =  [96.64303762]\n",
      ">1  T=96.643, delta=4.090,  metropolis=0.959, random_numb=0.529, f([-2.962062951407809, -1.4218662372723216])=-3.229\n",
      ">2  T=96.643, delta=0.000,  metropolis=1.000, random_numb=0.291, f([-3.79694618049035, -0.9386123319474384])=-23.209\n",
      ">3  T=96.643, delta=13.895,  metropolis=0.866, random_numb=0.817, f([-3.0293227419097866, -0.1859208228159277])=-9.314\n",
      "\n",
      "at T =  [71.14179334]\n",
      ">1  T=71.142, delta=5.871,  metropolis=0.921, random_numb=0.873, f([-2.7046599198612613, -0.7227158031450664])=-3.443\n",
      ">2  T=71.142, delta=0.000,  metropolis=1.000, random_numb=0.252, f([-3.274009077985845, -1.1494266626028335])=-9.890\n",
      ">3  T=71.142, delta=0.000,  metropolis=1.000, random_numb=0.385, f([-3.4273366889046954, -0.2607920689918184])=-16.512\n",
      "\n",
      "at T =  [56.75452273]\n",
      ">1  T=56.755, delta=4.687,  metropolis=0.921, random_numb=0.410, f([-3.2162178086320097, 0.4138278863822913])=-11.825\n",
      ">2  T=56.755, delta=8.413,  metropolis=0.862, random_numb=0.166, f([-2.5804274403167886, -0.3524191349280257])=-3.412\n",
      ">3  T=56.755, delta=0.000,  metropolis=1.000, random_numb=0.769, f([-3.4254584142171653, 0.6331725962379127])=-14.869\n",
      "\n",
      "at T =  [67.09468203]\n",
      ">1  T=67.095, delta=0.000,  metropolis=1.000, random_numb=0.814, f([-3.761996647127485, 1.1755669266543907])=-17.784\n",
      ">2  T=67.095, delta=2.438,  metropolis=0.964, random_numb=0.396, f([-3.521572651761934, 0.852155315508031])=-15.346\n",
      ">3  T=67.095, delta=0.000,  metropolis=1.000, random_numb=0.742, f([-3.798946873738287, 0.23007253817973528])=-25.738\n",
      "\n",
      "at T =  [64.60941268]\n",
      ">1  T=64.609, delta=9.306,  metropolis=0.866, random_numb=0.788, f([-3.7321398339749976, 1.2147108169301404])=-16.432\n",
      ">2  T=64.609, delta=0.000,  metropolis=1.000, random_numb=0.704, f([-4.245178801214537, 1.0884707785255654])=-34.433\n",
      ">3  T=64.609, delta=0.000,  metropolis=1.000, random_numb=0.159, f([-5.233408780637402, 1.7320957711496165])=-71.361\n",
      "\n",
      "at T =  [109.62853127]\n",
      ">1  T=109.629, delta=0.000,  metropolis=1.000, random_numb=0.067, f([-5.655783439684027, 1.9619280534515733])=-93.992\n",
      ">2  T=109.629, delta=37.456,  metropolis=0.711, random_numb=0.511, f([-4.793440651812438, 1.2114441418556063])=-56.537\n",
      ">3  T=109.629, delta=4.976,  metropolis=0.956, random_numb=0.814, f([-4.873947251495556, 1.7106184305232464])=-51.561\n",
      "\n",
      "at T =  [48.89911966]\n",
      ">1  T=48.899, delta=0.000,  metropolis=1.000, random_numb=0.277, f([-4.746154297223178, 1.1521520872243045])=-55.021\n",
      ">2  T=48.899, delta=0.000,  metropolis=1.000, random_numb=0.789, f([-5.447263952206734, 0.8486485596019637])=-98.798\n",
      ">3  T=48.899, delta=65.996,  metropolis=0.259, random_numb=0.639, f([-5.447263952206734, 0.8486485596019637])=-98.798\n",
      "\n",
      "at T =  [92.65621028]\n",
      ">1  T=92.656, delta=0.000,  metropolis=1.000, random_numb=0.057, f([-6.11453857070011, 1.3740212182498885])=-143.687\n",
      ">2  T=92.656, delta=48.918,  metropolis=0.590, random_numb=0.130, f([-5.469263311948757, 1.3031940648467397])=-94.769\n",
      ">3  T=92.656, delta=0.000,  metropolis=1.000, random_numb=0.486, f([-6.415834928998384, 1.7142384247376556])=-164.977\n",
      "\n"
     ]
    }
   ],
   "source": [
    "Tmax = 100 #initial temperature\n",
    "\n",
    "init_sol = generate_init_solution(lower_bound=0, upper_bound=100, dimension=2)\n",
    "\n",
    "Tmax = initial_temperature(init_sol)\n",
    "\n",
    "solution = [-0.5, -0.5] #initial solution\n",
    "\n",
    "SA = simulated_annealing(solution= solution, Tmin=25, Tmax=Tmax, imax=3)"
   ]
  },
  {
   "cell_type": "code",
   "execution_count": 6,
   "metadata": {},
   "outputs": [
    {
     "name": "stdout",
     "output_type": "stream",
     "text": [
      "['0: 2.45564322', '1: 4.776654332', '2: 6.99000999887', '3: 8.0000000009']\n"
     ]
    }
   ],
   "source": [
    "a_list = [2.45564322, 4.776654332, 6.99000999887, 8.0000000009]\n",
    "string_list = [\"%i: %s\" % (index, value) for index, value in enumerate(a_list)]\n",
    "print(string_list)"
   ]
  },
  {
   "cell_type": "code",
   "execution_count": 7,
   "metadata": {},
   "outputs": [
    {
     "data": {
      "image/png": "[encoded data removed]",
      "text/plain": [
       "<Figure size 1080x576 with 1 Axes>"
      ]
     },
     "metadata": {
      "needs_background": "light"
     },
     "output_type": "display_data"
    }
   ],
   "source": [
    "import matplotlib.pyplot as plt\n",
    "from mpl_toolkits import mplot3d\n",
    "\n",
    "fig = plt.figure(figsize = (15, 8))\n",
    "ax = plt.axes(projection='3d')\n",
    "xdata = np.array([SA[0][i][0] for i in range(len(SA[0]))])\n",
    "ydata = np.array([SA[0][i][1] for i in range(len(SA[0]))])\n",
    "zdata = np.array(SA[1])\n",
    "#ax.plot3D(xdata, ydata, zdata, 'gray')\n",
    "ax.scatter3D(xdata, ydata, zdata, c=zdata, cmap='viridis', linewidth=0.5)\n",
    "#ax.plot_surface(xdata, ydata, zdata, c=zdata, cmap='viridis', linewidth=0.5)\n",
    "plt.show()"
   ]
  },
  {
   "cell_type": "code",
   "execution_count": 8,
   "metadata": {},
   "outputs": [
    {
     "data": {
      "text/plain": [
       "[-1.08, -0.41]"
      ]
     },
     "execution_count": 8,
     "metadata": {},
     "output_type": "execute_result"
    }
   ],
   "source": [
    "soultion = [-0.5, -0.5]\n",
    "dimension = len(soultion)\n",
    "neighbor_solution = [0]*dimension #initialize neighbors\n",
    "\n",
    "for i in range(0, dimension):\n",
    "    neighbor_solution[i] = gauss(0, 2)*soultion[i]\n",
    "neighbor_solution"
   ]
  },
  {
   "cell_type": "code",
   "execution_count": 9,
   "metadata": {},
   "outputs": [
    {
     "data": {
      "text/plain": [
       "[0.4916956245331783, 0.25960698913638414]"
      ]
     },
     "execution_count": 9,
     "metadata": {},
     "output_type": "execute_result"
    }
   ],
   "source": [
    "neighbor_solution = [0]*dimension #initialize neighbors\n",
    "r = np.random.uniform(0, 1, dimension) #random draw deom uniform distribution\n",
    "\n",
    "for i in range(0, dimension):\n",
    "    neighbor_solution[i] = soultion[i]+(2*r[i]-1)\n",
    "neighbor_solution"
   ]
  },
  {
   "cell_type": "code",
   "execution_count": 10,
   "metadata": {},
   "outputs": [],
   "source": [
    "fx = lambda x: 2*x_1**2 + 4*x_2**2 + x_1**3 + x_2**3 "
   ]
  },
  {
   "cell_type": "code",
   "execution_count": null,
   "metadata": {},
   "outputs": [],
   "source": []
  }
 ],
 "metadata": {
  "kernelspec": {
   "display_name": "Python 3",
   "language": "python",
   "name": "python3"
  },
  "language_info": {
   "codemirror_mode": {
    "name": "ipython",
    "version": 3
   },
   "file_extension": ".py",
   "mimetype": "text/x-python",
   "name": "python",
   "nbconvert_exporter": "python",
   "pygments_lexer": "ipython3",
   "version": "3.9.4"
  }
 },
 "nbformat": 4,
 "nbformat_minor": 4
}

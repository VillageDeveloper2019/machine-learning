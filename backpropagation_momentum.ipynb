{
 "cells": [
  {
   "cell_type": "markdown",
   "metadata": {},
   "source": [
    "### Author: Marktus A Atanga\n",
    "### School: Johns Hopkins University\n",
    "### Class: Introduction to Machine Learning\n",
    "### Algorithm: K-maeans clustering from Scratch"
   ]
  },
  {
   "cell_type": "code",
   "execution_count": 1,
   "metadata": {},
   "outputs": [],
   "source": [
    "import sys\n",
    "import time\n",
    "import seaborn as sns\n",
    "import numpy as np\n",
    "import pandas as pd\n",
    "from math import floor, ceil\n",
    "from datetime import datetime\n",
    "import matplotlib.pyplot as plt\n",
    "import scipy.stats as stats\n",
    "pd.options.display.float_format = '{:,.6f}'.format\n",
    "sys.path.append(\"c:\\python38\\lib\\site-packages\")\n",
    "sns.set(style=\"whitegrid\")\n",
    "THEME = \"darkslategray\""
   ]
  },
  {
   "cell_type": "code",
   "execution_count": 2,
   "metadata": {},
   "outputs": [],
   "source": [
    "def scale_data(df):\n",
    "    for column in df.columns:\n",
    "        if (column==\"class\"):\n",
    "            continue\n",
    "        else:\n",
    "            df[column] = (df[column] - df[column].mean())/df[column].std()\n",
    "    return df"
   ]
  },
  {
   "cell_type": "markdown",
   "metadata": {},
   "source": [
    "### Breast cancer data information\n",
    "1. Sample code number: id number\n",
    "2. Clump Thickness: 1 - 10\n",
    "3. Uniformity of Cell Size: 1 - 10\n",
    "4. Uniformity of Cell Shape: 1 - 10\n",
    "5. Marginal Adhesion: 1 - 10\n",
    "6. Single Epithelial Cell Size: 1 - 10\n",
    "7. Bare Nuclei: 1 - 10\n",
    "8. Bland Chromatin: 1 - 10\n",
    "9. Normal Nucleoli: 1 - 10\n",
    "10. Mitoses: 1 - 10\n",
    "11. Class: (2 for benign, 4 for malignant)"
   ]
  },
  {
   "cell_type": "code",
   "execution_count": 3,
   "metadata": {},
   "outputs": [],
   "source": [
    "cancer_file = \"https://archive.ics.uci.edu/ml/machine-learning-databases/breast-cancer-wisconsin/breast-cancer-wisconsin.data\"\n",
    "cancer_headers = [\"sample_code\", \"clump_size\", \"uniform_cell_size\", \"uniform_cell_shape\", \n",
    "                  \"marginal_adhesion\", \"epithelial_cell_size\", \"bare_nuclei\", \n",
    "                  \"bland_chromatin\", \"normal_nucleoli\", \"mitoses\", \"class\"]\n",
    "\n",
    "df_cancer = pd.read_csv(cancer_file, sep=\"\\s*,\\s*\", names = cancer_headers, engine='python')\n",
    "df_cancer.replace(\"?\", np.nan, inplace = True)\n",
    "df_cancer.fillna(df_cancer.median(), inplace = True)\n",
    "df_cancer[\"bare_nuclei\"] = df_cancer.bare_nuclei.astype(int)\n",
    "df_cancer[\"class\"].replace({2: 0, 4: 1}, inplace=True)\n",
    "df_cancer.drop([\"sample_code\"], axis = 1, inplace=True)\n",
    "\n",
    "#scale the data\n",
    "df_cancer = scale_data(df_cancer)"
   ]
  },
  {
   "cell_type": "code",
   "execution_count": 4,
   "metadata": {},
   "outputs": [
    {
     "data": {
      "text/html": [
       "<div>\n",
       "<style scoped>\n",
       "    .dataframe tbody tr th:only-of-type {\n",
       "        vertical-align: middle;\n",
       "    }\n",
       "\n",
       "    .dataframe tbody tr th {\n",
       "        vertical-align: top;\n",
       "    }\n",
       "\n",
       "    .dataframe thead th {\n",
       "        text-align: right;\n",
       "    }\n",
       "</style>\n",
       "<table border=\"1\" class=\"dataframe\">\n",
       "  <thead>\n",
       "    <tr style=\"text-align: right;\">\n",
       "      <th></th>\n",
       "      <th>clump_size</th>\n",
       "      <th>uniform_cell_size</th>\n",
       "      <th>uniform_cell_shape</th>\n",
       "      <th>marginal_adhesion</th>\n",
       "      <th>epithelial_cell_size</th>\n",
       "      <th>bare_nuclei</th>\n",
       "      <th>bland_chromatin</th>\n",
       "      <th>normal_nucleoli</th>\n",
       "      <th>mitoses</th>\n",
       "      <th>class</th>\n",
       "    </tr>\n",
       "  </thead>\n",
       "  <tbody>\n",
       "    <tr>\n",
       "      <th>0</th>\n",
       "      <td>0.206788</td>\n",
       "      <td>-0.699494</td>\n",
       "      <td>-0.742767</td>\n",
       "      <td>-0.632794</td>\n",
       "      <td>-0.549168</td>\n",
       "      <td>-0.686488</td>\n",
       "      <td>-0.179534</td>\n",
       "      <td>-0.611387</td>\n",
       "      <td>-0.343666</td>\n",
       "      <td>0</td>\n",
       "    </tr>\n",
       "    <tr>\n",
       "      <th>1</th>\n",
       "      <td>0.206788</td>\n",
       "      <td>0.283642</td>\n",
       "      <td>0.266684</td>\n",
       "      <td>0.768071</td>\n",
       "      <td>1.708882</td>\n",
       "      <td>1.798376</td>\n",
       "      <td>-0.179534</td>\n",
       "      <td>-0.283909</td>\n",
       "      <td>-0.343666</td>\n",
       "      <td>0</td>\n",
       "    </tr>\n",
       "    <tr>\n",
       "      <th>2</th>\n",
       "      <td>-0.503505</td>\n",
       "      <td>-0.699494</td>\n",
       "      <td>-0.742767</td>\n",
       "      <td>-0.632794</td>\n",
       "      <td>-0.549168</td>\n",
       "      <td>-0.410392</td>\n",
       "      <td>-0.179534</td>\n",
       "      <td>-0.611387</td>\n",
       "      <td>-0.343666</td>\n",
       "      <td>0</td>\n",
       "    </tr>\n",
       "    <tr>\n",
       "      <th>3</th>\n",
       "      <td>0.561934</td>\n",
       "      <td>1.594490</td>\n",
       "      <td>1.612618</td>\n",
       "      <td>-0.632794</td>\n",
       "      <td>-0.097558</td>\n",
       "      <td>0.141800</td>\n",
       "      <td>-0.179534</td>\n",
       "      <td>1.353485</td>\n",
       "      <td>-0.343666</td>\n",
       "      <td>0</td>\n",
       "    </tr>\n",
       "    <tr>\n",
       "      <th>4</th>\n",
       "      <td>-0.148359</td>\n",
       "      <td>-0.699494</td>\n",
       "      <td>-0.742767</td>\n",
       "      <td>0.067638</td>\n",
       "      <td>-0.549168</td>\n",
       "      <td>-0.686488</td>\n",
       "      <td>-0.179534</td>\n",
       "      <td>-0.611387</td>\n",
       "      <td>-0.343666</td>\n",
       "      <td>0</td>\n",
       "    </tr>\n",
       "  </tbody>\n",
       "</table>\n",
       "</div>"
      ],
      "text/plain": [
       "   clump_size  uniform_cell_size  uniform_cell_shape  marginal_adhesion  \\\n",
       "0    0.206788          -0.699494           -0.742767          -0.632794   \n",
       "1    0.206788           0.283642            0.266684           0.768071   \n",
       "2   -0.503505          -0.699494           -0.742767          -0.632794   \n",
       "3    0.561934           1.594490            1.612618          -0.632794   \n",
       "4   -0.148359          -0.699494           -0.742767           0.067638   \n",
       "\n",
       "   epithelial_cell_size  bare_nuclei  bland_chromatin  normal_nucleoli  \\\n",
       "0             -0.549168    -0.686488        -0.179534        -0.611387   \n",
       "1              1.708882     1.798376        -0.179534        -0.283909   \n",
       "2             -0.549168    -0.410392        -0.179534        -0.611387   \n",
       "3             -0.097558     0.141800        -0.179534         1.353485   \n",
       "4             -0.549168    -0.686488        -0.179534        -0.611387   \n",
       "\n",
       "    mitoses  class  \n",
       "0 -0.343666      0  \n",
       "1 -0.343666      0  \n",
       "2 -0.343666      0  \n",
       "3 -0.343666      0  \n",
       "4 -0.343666      0  "
      ]
     },
     "execution_count": 4,
     "metadata": {},
     "output_type": "execute_result"
    }
   ],
   "source": [
    "df_cancer.head(5)"
   ]
  },
  {
   "cell_type": "code",
   "execution_count": 5,
   "metadata": {},
   "outputs": [
    {
     "data": {
      "text/plain": [
       "array([0, 1], dtype=int64)"
      ]
     },
     "execution_count": 5,
     "metadata": {},
     "output_type": "execute_result"
    }
   ],
   "source": [
    "df_cancer[\"class\"].unique()"
   ]
  },
  {
   "cell_type": "code",
   "execution_count": 6,
   "metadata": {},
   "outputs": [
    {
     "data": {
      "text/plain": [
       "clump_size              False\n",
       "uniform_cell_size       False\n",
       "uniform_cell_shape      False\n",
       "marginal_adhesion       False\n",
       "epithelial_cell_size    False\n",
       "bare_nuclei             False\n",
       "bland_chromatin         False\n",
       "normal_nucleoli         False\n",
       "mitoses                 False\n",
       "class                   False\n",
       "dtype: bool"
      ]
     },
     "execution_count": 6,
     "metadata": {},
     "output_type": "execute_result"
    }
   ],
   "source": [
    "df_cancer.isnull().any()"
   ]
  },
  {
   "cell_type": "code",
   "execution_count": 7,
   "metadata": {},
   "outputs": [
    {
     "name": "stdout",
     "output_type": "stream",
     "text": [
      "<class 'pandas.core.frame.DataFrame'>\n",
      "RangeIndex: 699 entries, 0 to 698\n",
      "Data columns (total 10 columns):\n",
      " #   Column                Non-Null Count  Dtype  \n",
      "---  ------                --------------  -----  \n",
      " 0   clump_size            699 non-null    float64\n",
      " 1   uniform_cell_size     699 non-null    float64\n",
      " 2   uniform_cell_shape    699 non-null    float64\n",
      " 3   marginal_adhesion     699 non-null    float64\n",
      " 4   epithelial_cell_size  699 non-null    float64\n",
      " 5   bare_nuclei           699 non-null    float64\n",
      " 6   bland_chromatin       699 non-null    float64\n",
      " 7   normal_nucleoli       699 non-null    float64\n",
      " 8   mitoses               699 non-null    float64\n",
      " 9   class                 699 non-null    int64  \n",
      "dtypes: float64(9), int64(1)\n",
      "memory usage: 54.7 KB\n"
     ]
    }
   ],
   "source": [
    "df_cancer.info()"
   ]
  },
  {
   "cell_type": "markdown",
   "metadata": {},
   "source": [
    "### Glass data information\n",
    "1. Id number: 1 to 214\n",
    "2. RI: refractive index\n",
    "3. Na: Sodium (unit measurement: weight percent in corresponding oxide, as are attributes 4-10)\n",
    "4. Mg: Magnesium\n",
    "5. Al: Aluminum\n",
    "6. Si: Silicon\n",
    "7. K: Potassium\n",
    "8. Ca: Calcium\n",
    "9. Ba: Barium\n",
    "10. Fe: Iron\n",
    "11. Type of glass: (class attribute)\n",
    "~~~\n",
    "    11.1 building_windows_float_processed\n",
    "    11.2 building_windows_non_float_processed\n",
    "    11.3 vehicle_windows_float_processed\n",
    "    11.4 vehicle_windows_non_float_processed (none in this database)\n",
    "    11.5 containers\n",
    "    11.6 tableware\n",
    "    11.7 headlamps\n",
    " ~~~"
   ]
  },
  {
   "cell_type": "code",
   "execution_count": 8,
   "metadata": {},
   "outputs": [],
   "source": [
    "glass_file = \"https://archive.ics.uci.edu/ml/machine-learning-databases/glass/glass.data\"\n",
    "\n",
    "glass_headers = [\"Id\", \"RI\", \"Na\", \"Mg\", \"Al\",\"Si\", \"K\", \"Ca\", \"Ba\", \"Fe\", \"class\"]        \n",
    "df_glass = pd.read_csv(glass_file, sep=\"\\s*,\\s*\", names = glass_headers, engine='python') \n",
    "df_glass.drop(\"Id\", axis=1, inplace=True)\n",
    "\n",
    "#scale the data\n",
    "glass_data = scale_data(df_glass)"
   ]
  },
  {
   "cell_type": "code",
   "execution_count": 9,
   "metadata": {},
   "outputs": [
    {
     "data": {
      "text/html": [
       "<div>\n",
       "<style scoped>\n",
       "    .dataframe tbody tr th:only-of-type {\n",
       "        vertical-align: middle;\n",
       "    }\n",
       "\n",
       "    .dataframe tbody tr th {\n",
       "        vertical-align: top;\n",
       "    }\n",
       "\n",
       "    .dataframe thead th {\n",
       "        text-align: right;\n",
       "    }\n",
       "</style>\n",
       "<table border=\"1\" class=\"dataframe\">\n",
       "  <thead>\n",
       "    <tr style=\"text-align: right;\">\n",
       "      <th></th>\n",
       "      <th>RI</th>\n",
       "      <th>Na</th>\n",
       "      <th>Mg</th>\n",
       "      <th>Al</th>\n",
       "      <th>Si</th>\n",
       "      <th>K</th>\n",
       "      <th>Ca</th>\n",
       "      <th>Ba</th>\n",
       "      <th>Fe</th>\n",
       "      <th>class</th>\n",
       "    </tr>\n",
       "  </thead>\n",
       "  <tbody>\n",
       "    <tr>\n",
       "      <th>0</th>\n",
       "      <td>0.870826</td>\n",
       "      <td>0.284287</td>\n",
       "      <td>1.251704</td>\n",
       "      <td>-0.690822</td>\n",
       "      <td>-1.124446</td>\n",
       "      <td>-0.670134</td>\n",
       "      <td>-0.145425</td>\n",
       "      <td>-0.352051</td>\n",
       "      <td>-0.585079</td>\n",
       "      <td>1</td>\n",
       "    </tr>\n",
       "    <tr>\n",
       "      <th>1</th>\n",
       "      <td>-0.248750</td>\n",
       "      <td>0.590433</td>\n",
       "      <td>0.634680</td>\n",
       "      <td>-0.170061</td>\n",
       "      <td>0.102080</td>\n",
       "      <td>-0.026152</td>\n",
       "      <td>-0.791877</td>\n",
       "      <td>-0.352051</td>\n",
       "      <td>-0.585079</td>\n",
       "      <td>1</td>\n",
       "    </tr>\n",
       "    <tr>\n",
       "      <th>2</th>\n",
       "      <td>-0.719631</td>\n",
       "      <td>0.149582</td>\n",
       "      <td>0.600016</td>\n",
       "      <td>0.190465</td>\n",
       "      <td>0.437760</td>\n",
       "      <td>-0.164148</td>\n",
       "      <td>-0.827010</td>\n",
       "      <td>-0.352051</td>\n",
       "      <td>-0.585079</td>\n",
       "      <td>1</td>\n",
       "    </tr>\n",
       "    <tr>\n",
       "      <th>3</th>\n",
       "      <td>-0.232286</td>\n",
       "      <td>-0.242285</td>\n",
       "      <td>0.697076</td>\n",
       "      <td>-0.310266</td>\n",
       "      <td>-0.052850</td>\n",
       "      <td>0.111844</td>\n",
       "      <td>-0.517838</td>\n",
       "      <td>-0.352051</td>\n",
       "      <td>-0.585079</td>\n",
       "      <td>1</td>\n",
       "    </tr>\n",
       "    <tr>\n",
       "      <th>4</th>\n",
       "      <td>-0.311315</td>\n",
       "      <td>-0.168810</td>\n",
       "      <td>0.648546</td>\n",
       "      <td>-0.410413</td>\n",
       "      <td>0.553957</td>\n",
       "      <td>0.081178</td>\n",
       "      <td>-0.623237</td>\n",
       "      <td>-0.352051</td>\n",
       "      <td>-0.585079</td>\n",
       "      <td>1</td>\n",
       "    </tr>\n",
       "  </tbody>\n",
       "</table>\n",
       "</div>"
      ],
      "text/plain": [
       "         RI        Na       Mg        Al        Si         K        Ca  \\\n",
       "0  0.870826  0.284287 1.251704 -0.690822 -1.124446 -0.670134 -0.145425   \n",
       "1 -0.248750  0.590433 0.634680 -0.170061  0.102080 -0.026152 -0.791877   \n",
       "2 -0.719631  0.149582 0.600016  0.190465  0.437760 -0.164148 -0.827010   \n",
       "3 -0.232286 -0.242285 0.697076 -0.310266 -0.052850  0.111844 -0.517838   \n",
       "4 -0.311315 -0.168810 0.648546 -0.410413  0.553957  0.081178 -0.623237   \n",
       "\n",
       "         Ba        Fe  class  \n",
       "0 -0.352051 -0.585079      1  \n",
       "1 -0.352051 -0.585079      1  \n",
       "2 -0.352051 -0.585079      1  \n",
       "3 -0.352051 -0.585079      1  \n",
       "4 -0.352051 -0.585079      1  "
      ]
     },
     "execution_count": 9,
     "metadata": {},
     "output_type": "execute_result"
    }
   ],
   "source": [
    "df_glass.head(5)"
   ]
  },
  {
   "cell_type": "code",
   "execution_count": 10,
   "metadata": {},
   "outputs": [
    {
     "data": {
      "text/plain": [
       "RI       False\n",
       "Na       False\n",
       "Mg       False\n",
       "Al       False\n",
       "Si       False\n",
       "K        False\n",
       "Ca       False\n",
       "Ba       False\n",
       "Fe       False\n",
       "class    False\n",
       "dtype: bool"
      ]
     },
     "execution_count": 10,
     "metadata": {},
     "output_type": "execute_result"
    }
   ],
   "source": [
    "df_glass.isnull().any()"
   ]
  },
  {
   "cell_type": "code",
   "execution_count": 11,
   "metadata": {},
   "outputs": [
    {
     "data": {
      "text/plain": [
       "array([1, 2, 3, 5, 6, 7], dtype=int64)"
      ]
     },
     "execution_count": 11,
     "metadata": {},
     "output_type": "execute_result"
    }
   ],
   "source": [
    "df_glass[\"class\"].unique()"
   ]
  },
  {
   "cell_type": "code",
   "execution_count": 12,
   "metadata": {},
   "outputs": [],
   "source": [
    "def train_validate_test_split(df, train_percent=.6, validate_percent=.3):\n",
    "    \"\"\"\n",
    "    This function split the data into 3 parts using the split ratios given (0.6:0.3:0.1)\n",
    "    1. First shuffle the data to ensure that the data split is random\n",
    "    2. calculate the size of each data\n",
    "    \"\"\"\n",
    "    df_shuffled = df.sample(frac=1)\n",
    "\n",
    "    n = len(df.index)\n",
    "\n",
    "    train_end = int(train_percent * n)\n",
    "\n",
    "    validate_end = int(validate_percent * n) + train_end\n",
    "\n",
    "    train = df_shuffled.iloc[df_shuffled.index[:train_end]]\n",
    "\n",
    "    validate = df_shuffled.iloc[df_shuffled.index[train_end:validate_end]]\n",
    "\n",
    "    test = df_shuffled.iloc[df_shuffled.index[validate_end:]]\n",
    "\n",
    "    train = train.reset_index(drop=True)\n",
    "    validate = validate.reset_index(drop=True)\n",
    "    test = test.reset_index(drop=True)\n",
    "\n",
    "    return train, validate, test\n",
    "\n",
    "train_set, validate_set, test_set = train_validate_test_split(df_cancer, train_percent=.6, validate_percent=.3)"
   ]
  },
  {
   "cell_type": "code",
   "execution_count": 13,
   "metadata": {},
   "outputs": [],
   "source": [
    "# Backprop on the Seeds Dataset\n",
    "from random import random\n",
    "from math import exp\n",
    " \n",
    "#Initialize a network\n",
    "def initialize_network(n_inputs, n_hidden, n_outputs):\n",
    "    network = list()\n",
    "    hidden_layer = [{'weights':[random() for i in range(n_inputs + 1)]} for i in range(n_hidden)]\n",
    "    network.append(hidden_layer)\n",
    "    output_layer = [{'weights':[random() for i in range(n_hidden + 1)]} for i in range(n_outputs)]\n",
    "    network.append(output_layer)\n",
    "    return network\n",
    "\n",
    "#Calculate neuron activation for an input\n",
    "def summation(weights, inputs):\n",
    "    weighting_sum = weights[-1]\n",
    "    for i in range(len(weights)-1):\n",
    "        weighting_sum += weights[i] * inputs[i]\n",
    "    return weighting_sum\n",
    "\n",
    "#neuron activation\n",
    "def transfer(weighting_sum):\n",
    "    try:\n",
    "        sigmoid = 1.0 / (1.0 + exp(-weighting_sum))\n",
    "    except OverflowError: #if extreme float values\n",
    "        sigmoid = float('inf')\n",
    "    return sigmoid\n",
    "\n",
    "def softmax(z):\n",
    "    e = np.exp(r - np.max(z))\n",
    "    return e / e.sum(axis = 0)\n",
    "\n",
    "## Forward propagate input to a network output\n",
    "def forward_propagate(network, row):\n",
    "    inputs = row\n",
    "    for layer in network:\n",
    "        new_inputs = []\n",
    "        for neuron in layer:\n",
    "            sums = summation(neuron['weights'], inputs)\n",
    "            neuron['output'] = transfer(sums)\n",
    "            new_inputs.append(neuron['output'])\n",
    "        inputs = new_inputs\n",
    "    return inputs\n",
    "\n",
    "# Calculate the derivative of an neuron output\n",
    "def transfer_derivative(output):\n",
    "    return output * (1.0 - output)\n",
    "\n",
    "# Backpropagate error and store in neurons\n",
    "def backward_propagate_error(network, target):\n",
    "    for i in reversed(range(len(network))):\n",
    "        layer = network[i]\n",
    "        errors = list()\n",
    "        if i != len(network)-1: #If hidden layer\n",
    "            for j in range(len(layer)): #each node j in this hidden layer\n",
    "                error = 0.0\n",
    "                for neuron in network[i + 1]:\n",
    "                    error += (neuron['weights'][j] * neuron['delta'])\n",
    "                errors.append(error)\n",
    "        else: # If output layer\n",
    "            for j in range(len(layer)): #each node j in this outer layer\n",
    "                neuron = layer[j]\n",
    "                errors.append(target[j] - neuron['output'])\n",
    "        for j in range(len(layer)): #delta for each node j layer\n",
    "            neuron = layer[j]\n",
    "            neuron['delta'] = errors[j] * transfer_derivative(neuron['output'])\n",
    "            \n",
    "#Backpropagation Algorithm With Stochastic Gradient Descent\n",
    "def stochastic_gd(network, train, test, NUM_OUTPUTS, EPOCHS, LEARN_RATE):\n",
    "    train_errors, test_errors = [], []\n",
    "    for epoch in range(int(EPOCHS)):\n",
    "        first_row = True\n",
    "        for row in train:\n",
    "            target = [0 for _ in range(int(NUM_OUTPUTS))]\n",
    "            target[int(row[-1])] = 1\n",
    "            forward_propagate(network, row)\n",
    "            backward_propagate_error(network, target)    \n",
    "            update_weights(network, row, LEARN_RATE)            \n",
    "        train_errors.append(error_rate(network, train))\n",
    "        test_errors.append(error_rate(network, test))   \n",
    "    return network, train_errors, test_errors\n",
    "\n",
    "#Update network weights with error\n",
    "def update_weights(network, row, l_rate):    \n",
    "    for i in range(len(network)):        \n",
    "        if i != 0: #if not the first layer\n",
    "            inputs = [neuron['output'] for neuron in network[i - 1]]\n",
    "        else:\n",
    "            inputs = row[:-1] #if the firt layer, use the inputs\n",
    "        for neuron in network[i]:\n",
    "            for j in range(len(inputs)):\n",
    "                neuron['weights'][j] += l_rate * neuron['delta'] * inputs[j]\n",
    "            neuron['weights'][-1] += l_rate * neuron['delta']\n",
    "            \n",
    "# Train a network for a fixed number of epochs\n",
    "def momentum_stochastic_gd(network, train, test, NUM_OUTPUTS, EPOCHS, LEARN_RATE, MOMENTUM_RATE): \n",
    "    train_errors, test_errors = [], []\n",
    "    for epoch in range(int(EPOCHS)):\n",
    "        first_row = True\n",
    "        for row in train:\n",
    "            temp_delta = [neuron['delta'] for layer in network for neuron in layer] if not first_row else None\n",
    "            target = [0 for _ in range(int(NUM_OUTPUTS))]\n",
    "            target[int(row[-1])] = 1\n",
    "            forward_propagate(network, row)\n",
    "            backward_propagate_error(network, target)             \n",
    "            momentum_weights_update(network, row, LEARN_RATE, temp_delta, MOMENTUM_RATE)\n",
    "            first_row = False\n",
    "        train_errors.append(error_rate(network, train))\n",
    "        test_errors.append(error_rate(network, test))        \n",
    "    return network, train_errors, test_errors\n",
    "\n",
    "#Update network weights with error and a momentum term\n",
    "def momentum_weights_update(network, row, l_rate, past_delta, momentum_rate):\n",
    "    for i in range(len(network)): #each layer in the network\n",
    "        if i != 0: #if not the first layer\n",
    "            inputs = [neuron['output'] for neuron in network[i - 1]]\n",
    "        else:\n",
    "            inputs = row[:-1] #if the firt layer, use the inputs\n",
    "        #for neuron in network[i]:\n",
    "        for neuron, d in zip(network[i], range(0, len(network[i]))):\n",
    "            for j in range(len(inputs)): #update the weights of layer i nodes j\n",
    "                neuron['weights'][j] += l_rate * neuron['delta'] * inputs[j]\n",
    "                if past_delta is not None: # if there is a temporal delta\n",
    "                    # update weight based on momentum rate term\n",
    "                    neuron['weights'][j] += momentum_rate * past_delta[d]\n",
    "            neuron['weights'][-1] += l_rate * neuron['delta'] #update the bias\n",
    "    \n",
    "def reset_neurons(network):\n",
    "    \"\"\"Resets neural outputs to zero after each backprop pass.\n",
    "    Parameters:\n",
    "        network : the neural network.\n",
    "    \"\"\"\n",
    "    for layer in network:\n",
    "        for neuron in layer:\n",
    "            # we don't want to clobber the outputs later, so reset after every example\n",
    "            neuron['output'] = 0\n",
    "\n",
    "#Make a prediction with a network\n",
    "def predict(network, row):\n",
    "    outputs = forward_propagate(network, row)\n",
    "    return outputs.index(max(outputs))\n",
    "\n",
    "def error_rate(network, data):\n",
    "    correct = 0\n",
    "    for row in data:\n",
    "        if predict(network, row) == float(row[-1]):\n",
    "            correct += 1\n",
    "    return (1-(correct / float(len(data)))) * 100.0"
   ]
  },
  {
   "cell_type": "markdown",
   "metadata": {},
   "source": [
    "### Convert data from dataframe to numpy array"
   ]
  },
  {
   "cell_type": "code",
   "execution_count": 23,
   "metadata": {},
   "outputs": [],
   "source": [
    "training = np.array(train_set)\n",
    "validation = np.array(validate_set)\n",
    "test =  np.array(test_set)"
   ]
  },
  {
   "cell_type": "markdown",
   "metadata": {},
   "source": [
    "### Training without momentum"
   ]
  },
  {
   "cell_type": "code",
   "execution_count": 71,
   "metadata": {},
   "outputs": [
    {
     "name": "stdout",
     "output_type": "stream",
     "text": [
      "simulation time =  0:00:02.301837\n"
     ]
    },
    {
     "data": {
      "image/png": "[encoded data removed]",
      "text/plain": [
       "<Figure size 864x432 with 1 Axes>"
      ]
     },
     "metadata": {},
     "output_type": "display_data"
    }
   ],
   "source": [
    "if __name__ == '__main__':    \n",
    "    LAYERS = 0\n",
    "    EPOCHS = 400\n",
    "    LEARN_RATE =  0.001\n",
    "    NUM_INPUTS = len(training[0][:-1])\n",
    "    NUM_OUTPUTS = len(list(set([c[-1] for c in training])))    \n",
    "    NETWORK = initialize_network(NUM_INPUTS, LAYERS, NUM_OUTPUTS) \n",
    "    start_time = datetime.now()\n",
    "    NN0 = stochastic_gd(NETWORK, training, validataion, NUM_OUTPUTS, EPOCHS, LEARN_RATE)\n",
    "    end_time = datetime.now()\n",
    "    print(\"simulation time = \", end_time - start_time)\n",
    "    \n",
    "figure = plt.figure(figsize=(12, 6))\n",
    "axes1 = figure.add_subplot(1, 1, 1)\n",
    "axes1.plot(range(0, EPOCHS), NN0[1], color=\"blue\", alpha=0.8, label = \"Training error\", lw=2)    \n",
    "axes1.plot(range(0, EPOCHS), NN0[2], color=\"darkgreen\", alpha=0.8, label = \"Test error\", lw=2)   \n",
    "axes1.set_title(r\"Zero hidden layer backpropagation without momentum\", fontsize = 18)\n",
    "axes1.set_xlabel(\"EPOCH\", fontsize = 16)\n",
    "axes1.set_ylabel(\"Error Rate (%)\", fontsize = 16)\n",
    "axes1.set_xlim(0, EPOCHS)\n",
    "axes1.set_ylim(0, 100)\n",
    "axes1.legend(loc = \"upper right\", fontsize = 16)\n",
    "axes1.yaxis.grid( b=True, which=\"major\")\n",
    "axes1.tick_params(axis='both', which='major', labelsize=14)\n",
    "plt.show()\n",
    "plt.close()"
   ]
  },
  {
   "cell_type": "code",
   "execution_count": 72,
   "metadata": {},
   "outputs": [
    {
     "name": "stdout",
     "output_type": "stream",
     "text": [
      "simulation time =  0:00:05.999142\n"
     ]
    },
    {
     "data": {
      "image/png": "[encoded data removed]",
      "text/plain": [
       "<Figure size 864x432 with 1 Axes>"
      ]
     },
     "metadata": {},
     "output_type": "display_data"
    }
   ],
   "source": [
    "if __name__ == '__main__':    \n",
    "    LAYERS = 1\n",
    "    EPOCHS = 400\n",
    "    LEARN_RATE =  0.001\n",
    "    NUM_INPUTS = len(training[0][:-1])\n",
    "    NUM_OUTPUTS = len(list(set([c[-1] for c in training])))    \n",
    "    NETWORK = initialize_network(NUM_INPUTS, LAYERS, NUM_OUTPUTS) \n",
    "    start_time = datetime.now()\n",
    "    NN1 = stochastic_gd(NETWORK, training, validataion, NUM_OUTPUTS, EPOCHS, LEARN_RATE)\n",
    "    end_time = datetime.now()\n",
    "    print(\"simulation time = \", end_time - start_time)\n",
    "    \n",
    "figure = plt.figure(figsize=(12, 6))\n",
    "axes1 = figure.add_subplot(1, 1, 1)\n",
    "axes1.plot(range(0, EPOCHS), NN1[1], color=\"blue\", alpha=0.8, label = \"Training error\", lw=2)    \n",
    "axes1.plot(range(0, EPOCHS), NN1[2], color=\"darkgreen\", alpha=0.8, label = \"Test error\", lw=2)   \n",
    "axes1.set_title(r\"One hidden layer backpropagation without momentum\", fontsize = 18)\n",
    "axes1.set_xlabel(\"EPOCH\", fontsize = 16)\n",
    "axes1.set_ylabel(\"Error Rate (%)\", fontsize = 16)\n",
    "axes1.set_xlim(0, EPOCHS)\n",
    "axes1.set_ylim(0, 100)\n",
    "axes1.legend(loc = \"upper right\", fontsize = 16)\n",
    "axes1.yaxis.grid( b=True, which=\"major\")\n",
    "axes1.tick_params(axis='both', which='major', labelsize=14)\n",
    "plt.show()\n",
    "plt.close()"
   ]
  },
  {
   "cell_type": "code",
   "execution_count": 73,
   "metadata": {},
   "outputs": [
    {
     "name": "stdout",
     "output_type": "stream",
     "text": [
      "simulation time =  0:00:09.128821\n"
     ]
    },
    {
     "data": {
      "image/png": "[encoded data removed]",
      "text/plain": [
       "<Figure size 864x432 with 1 Axes>"
      ]
     },
     "metadata": {},
     "output_type": "display_data"
    }
   ],
   "source": [
    "if __name__ == '__main__':    \n",
    "    LAYERS = 2\n",
    "    EPOCHS = 400\n",
    "    LEARN_RATE =  0.001\n",
    "    NUM_INPUTS = len(training[0][:-1])\n",
    "    NUM_OUTPUTS = len(list(set([c[-1] for c in training])))    \n",
    "    NETWORK = initialize_network(NUM_INPUTS, LAYERS, NUM_OUTPUTS) \n",
    "    start_time = datetime.now()\n",
    "    NN2 = stochastic_gd(NETWORK, training, validataion, NUM_OUTPUTS, EPOCHS, LEARN_RATE)\n",
    "    end_time = datetime.now()\n",
    "    print(\"simulation time = \", end_time - start_time)\n",
    "    \n",
    "figure = plt.figure(figsize=(12, 6))\n",
    "axes1 = figure.add_subplot(1, 1, 1)\n",
    "axes1.plot(range(0, EPOCHS), NN2[1], color=\"blue\", alpha=0.8, label = \"Training error\", lw=2)    \n",
    "axes1.plot(range(0, EPOCHS), NN2[2], color=\"darkgreen\", alpha=0.8, label = \"Test error\", lw=2)   \n",
    "axes1.set_title(r\"Two hidden layers backpropagation without momentum\", fontsize = 18)\n",
    "axes1.set_xlabel(\"EPOCH\", fontsize = 16)\n",
    "axes1.set_ylabel(\"Error Rate (%)\", fontsize = 16)\n",
    "axes1.set_xlim(0, EPOCHS)\n",
    "axes1.set_ylim(0, 100)\n",
    "axes1.legend(loc = \"upper right\", fontsize = 16)\n",
    "axes1.yaxis.grid( b=True, which=\"major\")\n",
    "axes1.tick_params(axis='both', which='major', labelsize=14)\n",
    "plt.show()\n",
    "plt.close()"
   ]
  },
  {
   "cell_type": "code",
   "execution_count": 114,
   "metadata": {},
   "outputs": [
    {
     "data": {
      "text/plain": [
       "[[{'weights': [0.5741235765912841,\n",
       "    1.1680064985455616,\n",
       "    0.7047741675757949,\n",
       "    0.5236864533341835,\n",
       "    0.891079970920518,\n",
       "    1.2199133764410943,\n",
       "    0.9282549879423835,\n",
       "    0.6628259037349951,\n",
       "    1.014043414790496,\n",
       "    0.49846098140844974],\n",
       "   'output': 0.011006788475815994,\n",
       "   'delta': 5.584237646744014e-07},\n",
       "  {'weights': [1.077450479000623,\n",
       "    0.43838693050116373,\n",
       "    1.0859059021043207,\n",
       "    1.0181191128211684,\n",
       "    0.3646389859985615,\n",
       "    0.8671426817430226,\n",
       "    0.821780703137983,\n",
       "    0.2673664470547496,\n",
       "    0.3526373325322075,\n",
       "    0.031450637571016876],\n",
       "   'output': 0.009965768384879762,\n",
       "   'delta': 4.4453865419527935e-06}],\n",
       " [{'weights': [-1.7458360442100367, -2.0345560960920066, 1.9831370723334811],\n",
       "   'output': 0.8747520507949186,\n",
       "   'delta': -0.01734799391513058},\n",
       "  {'weights': [2.220280041108444, 1.6629855207595197, -2.04077247066866],\n",
       "   'output': 0.11922797688390882,\n",
       "   'delta': 0.016149496596169762}]]"
      ]
     },
     "execution_count": 114,
     "metadata": {},
     "output_type": "execute_result"
    }
   ],
   "source": [
    "##print network\n",
    "NN2[0]"
   ]
  },
  {
   "cell_type": "code",
   "execution_count": 90,
   "metadata": {},
   "outputs": [
    {
     "name": "stdout",
     "output_type": "stream",
     "text": [
      "No hidden layer training converged error rate=  36.038186157517906\n",
      "No hidden layer validation converged error rate=  31.57894736842105\n",
      "One hidden layer training converged error rate=  2.863961813842486\n",
      "One hidden layer validation testing error rate=  2.8708133971291905\n",
      "Two hidden layers training converged error rate=  3.341288782816232\n",
      "Two hidden layers validation converged error rate=  2.8708133971291905\n"
     ]
    }
   ],
   "source": [
    "print(\"No hidden layer training converged error rate= \",NN0[1][-1])\n",
    "print(\"No hidden layer validation converged error rate= \",NN0[2][-1])\n",
    "\n",
    "print(\"One hidden layer training converged error rate= \",NN1[1][-1])\n",
    "print(\"One hidden layer validation testing error rate= \",NN1[2][-1])\n",
    "\n",
    "print(\"Two hidden layers training converged error rate= \",NN2[1][-1])\n",
    "print(\"Two hidden layers validation converged error rate= \",NN2[2][-1])"
   ]
  },
  {
   "cell_type": "markdown",
   "metadata": {},
   "source": [
    "#### Predict test data and calculate error rate using the neural net without momentum"
   ]
  },
  {
   "cell_type": "code",
   "execution_count": 89,
   "metadata": {},
   "outputs": [
    {
     "name": "stdout",
     "output_type": "stream",
     "text": [
      "Zeror layer test error rate =  33.80281690140845\n",
      "One layer test error rate =  1.4084507042253502\n",
      "Two layers test error rate =  1.4084507042253502\n"
     ]
    }
   ],
   "source": [
    "print(\"Zeror layer test error rate = \", error_rate(NN0[0], test))\n",
    "print(\"One layer test error rate = \", error_rate(NN1[0], test))\n",
    "print(\"Two layers test error rate = \", error_rate(NN2[0], test))"
   ]
  },
  {
   "cell_type": "markdown",
   "metadata": {},
   "source": [
    "### Back propagation with momentum"
   ]
  },
  {
   "cell_type": "code",
   "execution_count": 75,
   "metadata": {
    "scrolled": false
   },
   "outputs": [
    {
     "name": "stdout",
     "output_type": "stream",
     "text": [
      "simulation time =  0:00:02.552165\n"
     ]
    },
    {
     "data": {
      "image/png": "[encoded data removed]",
      "text/plain": [
       "<Figure size 864x432 with 1 Axes>"
      ]
     },
     "metadata": {},
     "output_type": "display_data"
    }
   ],
   "source": [
    "if __name__ == '__main__':    \n",
    "    LAYERS = 0\n",
    "    EPOCHS = 400\n",
    "    LEARN_RATE = 0.001\n",
    "    MOMENTUM_RATE = 0.01\n",
    "    NUM_INPUTS = len(training[0][:-1])\n",
    "    NUM_OUTPUTS = len(list(set([c[-1] for c in training])))\n",
    "    \n",
    "    start_time = datetime.now()\n",
    "    NETWORK = initialize_network(NUM_INPUTS, LAYERS, NUM_OUTPUTS)    \n",
    "    NNM0 = momentum_stochastic_gd(NETWORK, training, validation, NUM_OUTPUTS, EPOCHS, LEARN_RATE, MOMENTUM_RATE)\n",
    "    end_time = datetime.now()\n",
    "    print(\"simulation time = \", end_time - start_time)\n",
    "figure = plt.figure(figsize=(12,6))\n",
    "axes = figure.add_subplot(1, 1, 1)\n",
    "axes.plot(range(0, EPOCHS), NNM0[1], color=\"blue\", alpha=0.8, label = \"Training Error\", lw=2)    \n",
    "axes.plot(range(0, EPOCHS), NNM0[2], color=\"darkgreen\", alpha=0.8, label = \"Validation Error\", lw=2)   \n",
    "axes.set_title(r\"Zero hidden layer backpropagation with momentum\", fontsize = 18)\n",
    "axes.set_xlabel(\"EPOCH\", fontsize = 16)\n",
    "axes.set_ylabel(\"Error Rate (%)\", fontsize = 16)\n",
    "axes.legend(loc = \"upper right\", fontsize = 16)\n",
    "axes.set_xlim(0, EPOCHS)\n",
    "axes.set_ylim(0, 100)\n",
    "axes.yaxis.grid( b=True, which=\"major\")\n",
    "axes.tick_params(axis='both', which='major', labelsize=14)\n",
    "\n",
    "plt.show()\n",
    "plt.close()"
   ]
  },
  {
   "cell_type": "code",
   "execution_count": 76,
   "metadata": {},
   "outputs": [
    {
     "name": "stdout",
     "output_type": "stream",
     "text": [
      "simulation time =  0:00:06.364206\n"
     ]
    },
    {
     "data": {
      "image/png": "[encoded data removed]",
      "text/plain": [
       "<Figure size 864x432 with 1 Axes>"
      ]
     },
     "metadata": {},
     "output_type": "display_data"
    }
   ],
   "source": [
    "if __name__ == '__main__':    \n",
    "    LAYERS = 1\n",
    "    EPOCHS = 400\n",
    "    LEARN_RATE = 0.001\n",
    "    MOMENTUM_RATE = 0.01\n",
    "    NUM_INPUTS = len(training[0][:-1])\n",
    "    NUM_OUTPUTS = len(list(set([c[-1] for c in training])))\n",
    "    \n",
    "    start_time = datetime.now()\n",
    "    NETWORK = initialize_network(NUM_INPUTS, LAYERS, NUM_OUTPUTS)    \n",
    "    NNM1 = momentum_stochastic_gd(NETWORK, training, validation, NUM_OUTPUTS, EPOCHS, LEARN_RATE, MOMENTUM_RATE)\n",
    "    end_time = datetime.now()\n",
    "    print(\"simulation time = \", end_time - start_time)\n",
    "figure = plt.figure(figsize=(12,6))\n",
    "axes = figure.add_subplot(1, 1, 1)\n",
    "axes.plot(range(0, EPOCHS), NNM1[1], color=\"blue\", alpha=0.8, label = \"Training Error\", lw=2)    \n",
    "axes.plot(range(0, EPOCHS), NNM1[2], color=\"darkgreen\", alpha=0.8, label = \"Validation Error\", lw=2)   \n",
    "axes.set_title(r\"One hidden layer backpropagation with momentum\", fontsize = 18)\n",
    "axes.set_xlabel(\"EPOCH\", fontsize = 16)\n",
    "axes.set_ylabel(\"Error Rate (%)\", fontsize = 16)\n",
    "axes.legend(loc = \"upper right\", fontsize = 16)\n",
    "axes.set_xlim(0, EPOCHS)\n",
    "axes.set_ylim(0, 100)\n",
    "axes.yaxis.grid( b=True, which=\"major\")\n",
    "axes.tick_params(axis='both', which='major', labelsize=14)\n",
    "\n",
    "plt.show()\n",
    "plt.close()"
   ]
  },
  {
   "cell_type": "code",
   "execution_count": 77,
   "metadata": {},
   "outputs": [
    {
     "name": "stdout",
     "output_type": "stream",
     "text": [
      "simulation time =  0:00:11.062427\n"
     ]
    },
    {
     "data": {
      "image/png": "[encoded data removed]",
      "text/plain": [
       "<Figure size 864x432 with 1 Axes>"
      ]
     },
     "metadata": {},
     "output_type": "display_data"
    }
   ],
   "source": [
    "if __name__ == '__main__':    \n",
    "    LAYERS = 2\n",
    "    EPOCHS = 400\n",
    "    LEARN_RATE = 0.001\n",
    "    MOMENTUM_RATE = 0.01\n",
    "    NUM_INPUTS = len(training[0][:-1])\n",
    "    NUM_OUTPUTS = len(list(set([c[-1] for c in training])))\n",
    "    \n",
    "    start_time = datetime.now()\n",
    "    NETWORK = initialize_network(NUM_INPUTS, LAYERS, NUM_OUTPUTS)    \n",
    "    NNM2 = momentum_stochastic_gd(NETWORK, training, validation, NUM_OUTPUTS, EPOCHS, LEARN_RATE, MOMENTUM_RATE)\n",
    "    end_time = datetime.now()\n",
    "    print(\"simulation time = \", end_time - start_time)\n",
    "figure = plt.figure(figsize=(12,6))\n",
    "axes = figure.add_subplot(1, 1, 1)\n",
    "axes.plot(range(0, EPOCHS), NNM2[1], color=\"blue\", alpha=0.8, label = \"Training Error\", lw=2)    \n",
    "axes.plot(range(0, EPOCHS), NNM2[2], color=\"darkgreen\", alpha=0.8, label = \"Validation Error\", lw=2)   \n",
    "axes.set_title(r\"Two hidden layer backpropagation with momentum\", fontsize = 18)\n",
    "axes.set_xlabel(\"EPOCH\", fontsize = 16)\n",
    "axes.set_ylabel(\"Error Rate (%)\", fontsize = 16)\n",
    "axes.legend(loc = \"upper right\", fontsize = 16)\n",
    "axes.set_xlim(0, EPOCHS)\n",
    "axes.set_ylim(0, 100)\n",
    "axes.yaxis.grid( b=True, which=\"major\")\n",
    "axes.tick_params(axis='both', which='major', labelsize=14)\n",
    "\n",
    "plt.show()\n",
    "plt.close()"
   ]
  },
  {
   "cell_type": "code",
   "execution_count": 112,
   "metadata": {},
   "outputs": [
    {
     "data": {
      "text/plain": [
       "[[{'weights': [-2.191928308827758,\n",
       "    -1.6091967066333608,\n",
       "    -2.148866626442385,\n",
       "    -2.2440652755116837,\n",
       "    -1.6185678464672792,\n",
       "    -2.0777903260708506,\n",
       "    -2.3397929671084987,\n",
       "    -1.6230925737051607,\n",
       "    -1.9756849819851034,\n",
       "    -0.17230252470241963],\n",
       "   'output': 0.9999938325568334,\n",
       "   'delta': -9.435732578163788e-14},\n",
       "  {'weights': [-2.313418737849238,\n",
       "    -2.15160217492968,\n",
       "    -1.7651127390534593,\n",
       "    -1.5246016055901928,\n",
       "    -1.6915097281719194,\n",
       "    -1.9127766467181684,\n",
       "    -2.1907058447583965,\n",
       "    -2.15663167542079,\n",
       "    -1.4802585263787524,\n",
       "    -0.17724344630850583],\n",
       "   'output': 0.9999922874062254,\n",
       "   'delta': -5.972126896095873e-14}],\n",
       " [{'weights': [1.2739125248059755, 1.0317155780065668, -0.7965996378123678],\n",
       "   'output': 0.8189148356825086,\n",
       "   'delta': -0.06656365900490013},\n",
       "  {'weights': [-2.562202260046996, -2.6198366275426905, 1.6750332182038623],\n",
       "   'output': 0.029114572035068585,\n",
       "   'delta': 0.020961143900664506}]]"
      ]
     },
     "execution_count": 112,
     "metadata": {},
     "output_type": "execute_result"
    }
   ],
   "source": [
    "##print network\n",
    "NNM2[0]"
   ]
  },
  {
   "cell_type": "markdown",
   "metadata": {},
   "source": [
    "#### Minimum errors achieved in tarining"
   ]
  },
  {
   "cell_type": "code",
   "execution_count": 91,
   "metadata": {},
   "outputs": [
    {
     "name": "stdout",
     "output_type": "stream",
     "text": [
      "No hidden layer momentum training converged error rate=  36.038186157517906\n",
      "No hidden layer momentum validation converged error rate=  31.57894736842105\n",
      "One hidden layer momentum training converged error rate=  3.8186157517899777\n",
      "One hidden layer momentum validation testing error rate=  2.8708133971291905\n",
      "Two hidden layers momentum training converged error rate=  4.057279236276845\n",
      "Two hidden layers momentum validation converged error rate=  2.8708133971291905\n"
     ]
    }
   ],
   "source": [
    "print(\"No hidden layer momentum training converged error rate= \",NNM0[1][-1])\n",
    "print(\"No hidden layer momentum validation converged error rate= \",NNM0[2][-1])\n",
    "\n",
    "print(\"One hidden layer momentum training converged error rate= \",NNM1[1][-1])\n",
    "print(\"One hidden layer momentum validation testing error rate= \",NNM1[2][-1])\n",
    "\n",
    "print(\"Two hidden layers momentum training converged error rate= \",NNM2[1][-1])\n",
    "print(\"Two hidden layers momentum validation converged error rate= \",NNM2[2][-1])"
   ]
  },
  {
   "cell_type": "markdown",
   "metadata": {},
   "source": [
    "##### Predict test data and calculate error rate using the neural net without momentum"
   ]
  },
  {
   "cell_type": "code",
   "execution_count": 92,
   "metadata": {},
   "outputs": [
    {
     "name": "stdout",
     "output_type": "stream",
     "text": [
      "Zeror layer test error rate =  33.80281690140845\n",
      "One layer test error rate =  1.4084507042253502\n",
      "Two layers test error rate =  1.4084507042253502\n"
     ]
    }
   ],
   "source": [
    "print(\"Zeror layer test error rate = \", error_rate(NNM0[0], test))\n",
    "print(\"One layer test error rate = \", error_rate(NNM1[0], test))\n",
    "print(\"Two layers test error rate = \", error_rate(NNM2[0], test))"
   ]
  },
  {
   "cell_type": "code",
   "execution_count": 108,
   "metadata": {},
   "outputs": [],
   "source": [
    "zero_layer_test_prediction = []\n",
    "for row in test:\n",
    "    zero_layer_test_prediction.append(predict(NNM0[0], row))\n",
    "\n",
    "one_layer_test_prediction = []\n",
    "for row in test:\n",
    "    one_layer_test_prediction.append(predict(NNM1[0], row))\n",
    "    \n",
    "two_layers_test_prediction = []\n",
    "for row in test:\n",
    "    two_layers_test_prediction.append(predict(NNM2[0], row))"
   ]
  },
  {
   "cell_type": "code",
   "execution_count": 111,
   "metadata": {},
   "outputs": [],
   "source": [
    "test_set[\"class_zero_layer\"] = zero_layer_test_prediction\n",
    "test_set[\"class_one_layer\"] = one_layer_test_prediction\n",
    "test_set[\"class_two_layer\"] = two_layers_test_prediction\n",
    "test_set.to_csv(\"test_set_with_prediction.csv\", index = False)"
   ]
  },
  {
   "cell_type": "code",
   "execution_count": 110,
   "metadata": {},
   "outputs": [
    {
     "data": {
      "text/html": [
       "<div>\n",
       "<style scoped>\n",
       "    .dataframe tbody tr th:only-of-type {\n",
       "        vertical-align: middle;\n",
       "    }\n",
       "\n",
       "    .dataframe tbody tr th {\n",
       "        vertical-align: top;\n",
       "    }\n",
       "\n",
       "    .dataframe thead th {\n",
       "        text-align: right;\n",
       "    }\n",
       "</style>\n",
       "<table border=\"1\" class=\"dataframe\">\n",
       "  <thead>\n",
       "    <tr style=\"text-align: right;\">\n",
       "      <th></th>\n",
       "      <th>clump_size</th>\n",
       "      <th>uniform_cell_size</th>\n",
       "      <th>uniform_cell_shape</th>\n",
       "      <th>marginal_adhesion</th>\n",
       "      <th>epithelial_cell_size</th>\n",
       "      <th>bare_nuclei</th>\n",
       "      <th>bland_chromatin</th>\n",
       "      <th>normal_nucleoli</th>\n",
       "      <th>mitoses</th>\n",
       "      <th>class</th>\n",
       "      <th>class_zero_layer</th>\n",
       "      <th>class_one_layer</th>\n",
       "      <th>class_two_layer</th>\n",
       "    </tr>\n",
       "  </thead>\n",
       "  <tbody>\n",
       "    <tr>\n",
       "      <th>0</th>\n",
       "      <td>1.272227</td>\n",
       "      <td>-0.371782</td>\n",
       "      <td>0.266684</td>\n",
       "      <td>-0.632794</td>\n",
       "      <td>0.805662</td>\n",
       "      <td>-0.686488</td>\n",
       "      <td>0.640688</td>\n",
       "      <td>0.371049</td>\n",
       "      <td>1.405526</td>\n",
       "      <td>1</td>\n",
       "      <td>0</td>\n",
       "      <td>1</td>\n",
       "      <td>1</td>\n",
       "    </tr>\n",
       "    <tr>\n",
       "      <th>1</th>\n",
       "      <td>1.627373</td>\n",
       "      <td>2.249915</td>\n",
       "      <td>2.285586</td>\n",
       "      <td>2.519152</td>\n",
       "      <td>3.063712</td>\n",
       "      <td>1.798376</td>\n",
       "      <td>2.691243</td>\n",
       "      <td>2.335921</td>\n",
       "      <td>-0.343666</td>\n",
       "      <td>1</td>\n",
       "      <td>0</td>\n",
       "      <td>1</td>\n",
       "      <td>1</td>\n",
       "    </tr>\n",
       "    <tr>\n",
       "      <th>2</th>\n",
       "      <td>-0.148359</td>\n",
       "      <td>-0.699494</td>\n",
       "      <td>-0.742767</td>\n",
       "      <td>0.067638</td>\n",
       "      <td>-0.549168</td>\n",
       "      <td>-0.686488</td>\n",
       "      <td>-0.999756</td>\n",
       "      <td>-0.611387</td>\n",
       "      <td>-0.343666</td>\n",
       "      <td>0</td>\n",
       "      <td>0</td>\n",
       "      <td>0</td>\n",
       "      <td>0</td>\n",
       "    </tr>\n",
       "    <tr>\n",
       "      <th>3</th>\n",
       "      <td>1.272227</td>\n",
       "      <td>2.249915</td>\n",
       "      <td>2.285586</td>\n",
       "      <td>1.468503</td>\n",
       "      <td>3.063712</td>\n",
       "      <td>1.798376</td>\n",
       "      <td>1.460910</td>\n",
       "      <td>0.043570</td>\n",
       "      <td>3.737781</td>\n",
       "      <td>1</td>\n",
       "      <td>0</td>\n",
       "      <td>1</td>\n",
       "      <td>1</td>\n",
       "    </tr>\n",
       "    <tr>\n",
       "      <th>4</th>\n",
       "      <td>1.982519</td>\n",
       "      <td>-0.044070</td>\n",
       "      <td>0.603167</td>\n",
       "      <td>-0.632794</td>\n",
       "      <td>3.063712</td>\n",
       "      <td>0.417896</td>\n",
       "      <td>-0.179534</td>\n",
       "      <td>2.335921</td>\n",
       "      <td>0.239398</td>\n",
       "      <td>1</td>\n",
       "      <td>0</td>\n",
       "      <td>1</td>\n",
       "      <td>1</td>\n",
       "    </tr>\n",
       "    <tr>\n",
       "      <th>...</th>\n",
       "      <td>...</td>\n",
       "      <td>...</td>\n",
       "      <td>...</td>\n",
       "      <td>...</td>\n",
       "      <td>...</td>\n",
       "      <td>...</td>\n",
       "      <td>...</td>\n",
       "      <td>...</td>\n",
       "      <td>...</td>\n",
       "      <td>...</td>\n",
       "      <td>...</td>\n",
       "      <td>...</td>\n",
       "      <td>...</td>\n",
       "    </tr>\n",
       "    <tr>\n",
       "      <th>66</th>\n",
       "      <td>-0.503505</td>\n",
       "      <td>0.283642</td>\n",
       "      <td>0.266684</td>\n",
       "      <td>2.519152</td>\n",
       "      <td>0.805662</td>\n",
       "      <td>-0.686488</td>\n",
       "      <td>-0.179534</td>\n",
       "      <td>0.043570</td>\n",
       "      <td>-0.343666</td>\n",
       "      <td>1</td>\n",
       "      <td>0</td>\n",
       "      <td>1</td>\n",
       "      <td>1</td>\n",
       "    </tr>\n",
       "    <tr>\n",
       "      <th>67</th>\n",
       "      <td>0.917080</td>\n",
       "      <td>-0.044070</td>\n",
       "      <td>0.266684</td>\n",
       "      <td>0.417854</td>\n",
       "      <td>-0.097558</td>\n",
       "      <td>-0.134296</td>\n",
       "      <td>-0.179534</td>\n",
       "      <td>-0.283909</td>\n",
       "      <td>3.154718</td>\n",
       "      <td>1</td>\n",
       "      <td>0</td>\n",
       "      <td>1</td>\n",
       "      <td>1</td>\n",
       "    </tr>\n",
       "    <tr>\n",
       "      <th>68</th>\n",
       "      <td>-0.503505</td>\n",
       "      <td>-0.699494</td>\n",
       "      <td>-0.742767</td>\n",
       "      <td>-0.282578</td>\n",
       "      <td>-0.549168</td>\n",
       "      <td>-0.686488</td>\n",
       "      <td>-0.999756</td>\n",
       "      <td>-0.611387</td>\n",
       "      <td>-0.343666</td>\n",
       "      <td>0</td>\n",
       "      <td>0</td>\n",
       "      <td>0</td>\n",
       "      <td>0</td>\n",
       "    </tr>\n",
       "    <tr>\n",
       "      <th>69</th>\n",
       "      <td>-0.503505</td>\n",
       "      <td>-0.699494</td>\n",
       "      <td>-0.742767</td>\n",
       "      <td>-0.632794</td>\n",
       "      <td>-0.549168</td>\n",
       "      <td>-0.686488</td>\n",
       "      <td>-0.589645</td>\n",
       "      <td>-0.611387</td>\n",
       "      <td>-0.343666</td>\n",
       "      <td>0</td>\n",
       "      <td>0</td>\n",
       "      <td>0</td>\n",
       "      <td>0</td>\n",
       "    </tr>\n",
       "    <tr>\n",
       "      <th>70</th>\n",
       "      <td>-1.213798</td>\n",
       "      <td>-0.699494</td>\n",
       "      <td>-0.742767</td>\n",
       "      <td>-0.632794</td>\n",
       "      <td>-0.549168</td>\n",
       "      <td>-0.686488</td>\n",
       "      <td>-0.589645</td>\n",
       "      <td>-0.611387</td>\n",
       "      <td>-0.343666</td>\n",
       "      <td>0</td>\n",
       "      <td>0</td>\n",
       "      <td>0</td>\n",
       "      <td>0</td>\n",
       "    </tr>\n",
       "  </tbody>\n",
       "</table>\n",
       "<p>71 rows × 13 columns</p>\n",
       "</div>"
      ],
      "text/plain": [
       "    clump_size  uniform_cell_size  uniform_cell_shape  marginal_adhesion  \\\n",
       "0     1.272227          -0.371782            0.266684          -0.632794   \n",
       "1     1.627373           2.249915            2.285586           2.519152   \n",
       "2    -0.148359          -0.699494           -0.742767           0.067638   \n",
       "3     1.272227           2.249915            2.285586           1.468503   \n",
       "4     1.982519          -0.044070            0.603167          -0.632794   \n",
       "..         ...                ...                 ...                ...   \n",
       "66   -0.503505           0.283642            0.266684           2.519152   \n",
       "67    0.917080          -0.044070            0.266684           0.417854   \n",
       "68   -0.503505          -0.699494           -0.742767          -0.282578   \n",
       "69   -0.503505          -0.699494           -0.742767          -0.632794   \n",
       "70   -1.213798          -0.699494           -0.742767          -0.632794   \n",
       "\n",
       "    epithelial_cell_size  bare_nuclei  bland_chromatin  normal_nucleoli  \\\n",
       "0               0.805662    -0.686488         0.640688         0.371049   \n",
       "1               3.063712     1.798376         2.691243         2.335921   \n",
       "2              -0.549168    -0.686488        -0.999756        -0.611387   \n",
       "3               3.063712     1.798376         1.460910         0.043570   \n",
       "4               3.063712     0.417896        -0.179534         2.335921   \n",
       "..                   ...          ...              ...              ...   \n",
       "66              0.805662    -0.686488        -0.179534         0.043570   \n",
       "67             -0.097558    -0.134296        -0.179534        -0.283909   \n",
       "68             -0.549168    -0.686488        -0.999756        -0.611387   \n",
       "69             -0.549168    -0.686488        -0.589645        -0.611387   \n",
       "70             -0.549168    -0.686488        -0.589645        -0.611387   \n",
       "\n",
       "     mitoses  class  class_zero_layer  class_one_layer  class_two_layer  \n",
       "0   1.405526      1                 0                1                1  \n",
       "1  -0.343666      1                 0                1                1  \n",
       "2  -0.343666      0                 0                0                0  \n",
       "3   3.737781      1                 0                1                1  \n",
       "4   0.239398      1                 0                1                1  \n",
       "..       ...    ...               ...              ...              ...  \n",
       "66 -0.343666      1                 0                1                1  \n",
       "67  3.154718      1                 0                1                1  \n",
       "68 -0.343666      0                 0                0                0  \n",
       "69 -0.343666      0                 0                0                0  \n",
       "70 -0.343666      0                 0                0                0  \n",
       "\n",
       "[71 rows x 13 columns]"
      ]
     },
     "execution_count": 110,
     "metadata": {},
     "output_type": "execute_result"
    }
   ],
   "source": [
    "test_set"
   ]
  }
 ],
 "metadata": {
  "kernelspec": {
   "display_name": "Python 3",
   "language": "python",
   "name": "python3"
  },
  "language_info": {
   "codemirror_mode": {
    "name": "ipython",
    "version": 3
   },
   "file_extension": ".py",
   "mimetype": "text/x-python",
   "name": "python",
   "nbconvert_exporter": "python",
   "pygments_lexer": "ipython3",
   "version": "3.8.2"
  }
 },
 "nbformat": 4,
 "nbformat_minor": 4
}

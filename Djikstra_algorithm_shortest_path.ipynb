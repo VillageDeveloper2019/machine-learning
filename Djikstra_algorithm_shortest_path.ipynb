{
 "cells": [
  {
   "cell_type": "markdown",
   "metadata": {},
   "source": [
    "### Marktus Atanga\n",
    "### Python program for Dijkstra's single source shortest path algorithm. The program is for adjacency matrix representation of the graph\n",
    "  "
   ]
  },
  {
   "cell_type": "code",
   "execution_count": 28,
   "metadata": {},
   "outputs": [
    {
     "name": "stdout",
     "output_type": "stream",
     "text": [
      "Vertex \tDistance from Source\n",
      "0 \t 0\n",
      "1 \t 4\n",
      "2 \t 12\n",
      "3 \t 19\n",
      "4 \t 21\n",
      "5 \t 11\n",
      "6 \t 9\n",
      "7 \t 8\n",
      "8 \t 14\n"
     ]
    }
   ],
   "source": [
    "import sys  \n",
    "class Graph():\n",
    "  \n",
    "    def __init__(self, vertices):\n",
    "        self.V = vertices\n",
    "        self.graph = [[0 for column in range(vertices)] \n",
    "                    for row in range(vertices)]\n",
    "  \n",
    "    def printSolution(self, dist):\n",
    "        print(\"Vertex \\tDistance from Source\")\n",
    "        for node in range(self.V):\n",
    "            print(node, \"\\t\", dist[node])\n",
    "            \n",
    "      # find the vertex with  minimum distance value, from the set of vertices not yet included in shortest path tree\n",
    "    def minDistance(self, dist, sptSet):\n",
    "  \n",
    "        # Initilaize minimum distance for next node\n",
    "        minimum = sys.maxsize\n",
    "        \n",
    "        # Search not nearest vertex not in the shortest path tree\n",
    "        for v in range(self.V):\n",
    "            if dist[v] < minimum and sptSet[v] == False:\n",
    "                minimum = dist[v]\n",
    "                min_index = v  \n",
    "        return min_index\n",
    "  \n",
    "    # Funtion that implements Dijkstra's single source shortest path algorithm for a graph represented\n",
    "    # using adjacency matrix representation\n",
    "    def dijkstra(self, src):  \n",
    "        dist = [sys.maxsize] * self.V\n",
    "        dist[src] = 0\n",
    "        sptSet = [False] * self.V\n",
    "  \n",
    "        for cout in range(self.V):  \n",
    "            # Pick the minimum distance vertex from the set of vertices not yet processed. \n",
    "            # u is always equal to src in first iteration\n",
    "            u = self.minDistance(dist, sptSet)\n",
    "  \n",
    "            # Put the minimum distance vertex in the shotest path tree \n",
    "            sptSet[u] = True\n",
    "  \n",
    "            # Update dist value of the adjacent vertices of the picked vertex only if the current\n",
    "            # distance is greater than new distance and the vertex is not in the shotest path tree\n",
    "            for v in range(self.V):\n",
    "                if self.graph[u][v] > 0 and sptSet[v] == False and dist[v] > dist[u] + self.graph[u][v]:                \n",
    "                        dist[v] = dist[u] + self.graph[u][v]  \n",
    "        self.printSolution(dist)\n",
    "    \n",
    "# Driver program\n",
    "g = Graph(9)#1 2   3  4   5   6   7  8   9\n",
    "g.graph = [[0, 4,  0, 0,  0,  0,  0, 8,  0], #1\n",
    "           [4, 0,  8, 0,  0,  0,  0, 11, 0], #2\n",
    "           [0, 8,  0, 7,  0,  4,  0, 0,  2], #3\n",
    "           [0, 0,  7, 0,  9,  14, 0, 0,  0], #4\n",
    "           [0, 0,  0, 9,  0,  10, 0, 0,  0], #5\n",
    "           [0, 0,  4, 14, 10, 0,  2, 0,  0], #6\n",
    "           [0, 0,  0, 0,  0,  2,  0, 1,  6], #7\n",
    "           [8, 11, 0, 0,  0,  0,  1, 0,  7], #8\n",
    "           [0, 0,  2, 0,  0,  0,  6, 7,  0]  #9\n",
    "        ];\n",
    "  \n",
    "g.dijkstra(0);"
   ]
  },
  {
   "cell_type": "markdown",
   "metadata": {},
   "source": [
    "### module 9 extra example Q3 - Djikstra's algorithm"
   ]
  },
  {
   "cell_type": "code",
   "execution_count": 29,
   "metadata": {},
   "outputs": [
    {
     "name": "stdout",
     "output_type": "stream",
     "text": [
      "Vertex \tDistance from Source\n",
      "0 \t 0\n",
      "1 \t 1\n",
      "2 \t 2\n",
      "3 \t 4\n",
      "4 \t 3\n",
      "5 \t 6\n",
      "6 \t 10\n",
      "7 \t 8\n"
     ]
    }
   ],
   "source": [
    "g = Graph(8)\n",
    "#...........1  2   3  4   5   6   7  8\n",
    "g.graph = [[0, 1,  2, 0,  0,  0,  0, 0], #1\n",
    "           [0, 0,  1, 5,  2,  0,  0, 0], #2\n",
    "           [0, 0,  0, 2,  1,  4,  0, 0], #3\n",
    "           [0, 0,  0, 0,  3,  6,  8, 0], #4\n",
    "           [0, 0,  0, 0,  0,  3,  7, 0], #5\n",
    "           [0, 0,  0, 0,  0,  0,  5, 2], #6\n",
    "           [0, 0,  0, 0,  0,  0,  0, 6], #7\n",
    "           [0, 0,  0, 0,  0,  0,  0, 0]  #8\n",
    "        ];\n",
    "g.dijkstra(0);"
   ]
  },
  {
   "cell_type": "markdown",
   "metadata": {},
   "source": [
    "### HW10Q1d"
   ]
  },
  {
   "cell_type": "code",
   "execution_count": 30,
   "metadata": {},
   "outputs": [
    {
     "name": "stdout",
     "output_type": "stream",
     "text": [
      "Vertex \tDistance from Source\n",
      "0 \t 0\n",
      "1 \t 7\n",
      "2 \t 4\n",
      "3 \t 14\n",
      "4 \t 9\n",
      "5 \t 12\n",
      "6 \t 13\n",
      "7 \t 14\n",
      "8 \t 18\n"
     ]
    }
   ],
   "source": [
    "g = Graph(9)\n",
    "#...........1    2  3  4   5   6   7  8  9\n",
    "g.graph = [[0,  11, 4, 0,  0,  0,  0, 0, 0], #1\n",
    "           [11, 0,  3, 7,  13, 0,  0, 0, 0], #2\n",
    "           [4,  3,  0, 0,  5,  8,  0, 0, 0], #3\n",
    "           [0,  7,  0, 0,  5,  0,  10,0, 0], #4\n",
    "           [0,  13, 5, 5,  0,  7,  4, 5, 0], #5\n",
    "           [0,  0,  8, 0,  7,  0,  0, 9, 0], #6\n",
    "           [0,  0,  0, 10, 4,  0,  0, 4, 5], #7\n",
    "           [0,  0,  0, 0,  5,  9,  4, 0, 8], #8\n",
    "           [0,  0,  0, 0,  0,  0,  5, 8, 0]] #9\n",
    "        \n",
    "g.dijkstra(0);"
   ]
  }
 ],
 "metadata": {
  "kernelspec": {
   "display_name": "Python 3",
   "language": "python",
   "name": "python3"
  },
  "language_info": {
   "codemirror_mode": {
    "name": "ipython",
    "version": 3
   },
   "file_extension": ".py",
   "mimetype": "text/x-python",
   "name": "python",
   "nbconvert_exporter": "python",
   "pygments_lexer": "ipython3",
   "version": "3.8.2"
  }
 },
 "nbformat": 4,
 "nbformat_minor": 4
}

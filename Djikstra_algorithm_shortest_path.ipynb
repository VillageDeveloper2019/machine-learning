{
 "cells": [
  {
   "cell_type": "markdown",
   "metadata": {},
   "source": [
    "### Marktus Atanga\n",
    "Python program for Dijkstra's single source shortest path algorithm. The programuses adjacency matrix representation of the graph\n",
    "  "
   ]
  },
  {
   "cell_type": "code",
   "execution_count": 1,
   "metadata": {},
   "outputs": [],
   "source": [
    "import sys  \n",
    "class Graph(object):\n",
    "    def __init__(self, cities):\n",
    "        self.cities = cities\n",
    "        self.road_map = list() \n",
    "              \n",
    "    # find the vertex with  minimum distance value, from the set of vertices not yet included in shortest path tree\n",
    "    def find_min_distance(self, distance, shortest_path):  \n",
    "        min_distance = sys.maxsize #Initilaize minimum distance for next node to be a large number        \n",
    "        for city in range(self.cities):#Find min distance city not in found closest distances\n",
    "            if distance[city] < min_distance and shortest_path[city] == False:\n",
    "                min_dist = distance[city]\n",
    "                min_index = city  \n",
    "        return min_index\n",
    "    \n",
    "    def print_results(self, distance):\n",
    "        print(\"City \\tMin distance from city 1\")\n",
    "        for city in range(self.cities):\n",
    "            print(city+1, \"\\t\", distance[city])\n",
    "            \n",
    "    #Find the shortest distanc to every other city from city 1\n",
    "    def dijkstra(self, src):  \n",
    "        distance = [sys.maxsize]*self.cities\n",
    "        distance[src] = 0 #distance from source to itself is zero\n",
    "        shotest_path = [False]*self.cities  \n",
    "        for city in range(self.cities):  \n",
    "            i = self.find_min_distance(distance, shotest_path) #find closest distance city from source (city 1)\n",
    "            shotest_path[i] = True #save closest distance city\n",
    "            for j in range(self.cities):\n",
    "                if self.road_map[i][j]>0 and shotest_path[j]==False and distance[j]>distance[i]+self.road_map[i][j]:                \n",
    "                        distance[j] = distance[i] + self.road_map[i][j]  \n",
    "        self.print_results(distance)"
   ]
  },
  {
   "cell_type": "code",
   "execution_count": 2,
   "metadata": {},
   "outputs": [
    {
     "name": "stdout",
     "output_type": "stream",
     "text": [
      "City \tMin distance from city 1\n",
      "1 \t 0\n",
      "2 \t 15\n",
      "3 \t 12\n",
      "4 \t 49\n",
      "5 \t 37\n",
      "6 \t 26\n",
      "7 \t 50\n",
      "8 \t 29\n",
      "9 \t 37\n",
      "10 \t 17\n"
     ]
    }
   ],
   "source": [
    "graph = Graph(10)\n",
    "#represent the data using adjaceny matrix\n",
    "#...................1    2  3   4   5   6   7  8  9 10\n",
    "graph.road_map =  [[0,  15, 12, 0,  0,  0,  0, 0, 0, 17], #1\n",
    "                   [15, 0,  0,  6,  8,  0,  0, 0, 0,  0], #2\n",
    "                   [12, 0,  0,  0, 10, 10,  0, 0, 0, 13], #3\n",
    "                   [0,  6,  0,  0, 12,  0, 15, 0, 0,  0], #4\n",
    "                   [0,  8, 10, 12,  0, 11, 14,12,16,  0], #5\n",
    "                   [0,  0, 10, 0,  11,  0, 0, 7,  0,  9], #6\n",
    "                   [0,  0,  0, 15, 14,  0, 0, 0, 13,  0], #7\n",
    "                   [0,  0,  0, 0,  12,  7, 0, 0, 11, 12], #8\n",
    "                   [0, 17,  0, 0,  16,  0,13,11, 0,  20], #9\n",
    "                   [17, 0, 13, 0,  0,   9, 0, 12, 20, 0]] #10\n",
    "        \n",
    "#Find the distance from city 1 to every other city\n",
    "graph.dijkstra(0);"
   ]
  },
  {
   "cell_type": "code",
   "execution_count": 3,
   "metadata": {},
   "outputs": [
    {
     "name": "stdout",
     "output_type": "stream",
     "text": [
      "Total distance from city 1 to city 9 = 37\n",
      "Total cost($) =  29600000\n"
     ]
    }
   ],
   "source": [
    "print(\"Total distance from city 1 to city 9 =\", 37) \n",
    "print(\"Total cost($) = \" , 37*800000)"
   ]
  }
 ],
 "metadata": {
  "kernelspec": {
   "display_name": "Python 3",
   "language": "python",
   "name": "python3"
  },
  "language_info": {
   "codemirror_mode": {
    "name": "ipython",
    "version": 3
   },
   "file_extension": ".py",
   "mimetype": "text/x-python",
   "name": "python",
   "nbconvert_exporter": "python",
   "pygments_lexer": "ipython3",
   "version": "3.9.4"
  }
 },
 "nbformat": 4,
 "nbformat_minor": 4
}

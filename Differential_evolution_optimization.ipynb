{
 "cells": [
  {
   "cell_type": "markdown",
   "metadata": {},
   "source": [
    "## __Differential Evolution Optimization (DEO)__\n",
    "\n",
    "Evolution algorithms are population based heuristics which maintain and improve multiple candidate solutions using the population characteristics to gudie the search. Many metaheuristics algorithms such as differential evolution, evolution startegy (best for continuous optimization problems), genetic algorithms (best for combinatorial optimization problems) fall into this catergory.\n",
    "\n",
    "\n",
    "### How the algorithm works\n",
    "\n",
    "Variables:\n",
    "\n",
    "1. Population size (P) - 10 times the dimension, n, of the feasible region is recommended\n",
    "\n",
    "\n",
    "2. The maximum number of generations (G)\n",
    "\n",
    "\n",
    "3. i-th member of population in generation g; $x_{ij}^{(g)} \\;\\; j-th \\;\\; component of x_i^{(g)}$\n",
    "\n",
    "\n",
    "4. i-th member of mutant population in generation g;  $v_i^{(g)}$\n",
    "\n",
    "\n",
    "5. i-th member of trial populatiion in generation g  $t_i^(g)$\n",
    "\n",
    "\n",
    "#### Muation process\n",
    "\n",
    "\n"
   ]
  },
  {
   "cell_type": "markdown",
   "metadata": {},
   "source": []
  }
 ],
 "metadata": {
  "kernelspec": {
   "display_name": "Python 3",
   "language": "python",
   "name": "python3"
  },
  "language_info": {
   "codemirror_mode": {
    "name": "ipython",
    "version": 3
   },
   "file_extension": ".py",
   "mimetype": "text/x-python",
   "name": "python",
   "nbconvert_exporter": "python",
   "pygments_lexer": "ipython3",
   "version": "3.9.4"
  }
 },
 "nbformat": 4,
 "nbformat_minor": 4
}

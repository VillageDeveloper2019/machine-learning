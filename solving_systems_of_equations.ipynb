{
 "cells": [
  {
   "cell_type": "markdown",
   "id": "da85a5c6",
   "metadata": {},
   "source": [
    "### Author: Marktus Atanga"
   ]
  },
  {
   "cell_type": "code",
   "execution_count": 1,
   "id": "6b6fa71b",
   "metadata": {},
   "outputs": [
    {
     "name": "stdout",
     "output_type": "stream",
     "text": [
      "{w: 94/45, x: -20/9, y: 74/45, z: -53/45}\n"
     ]
    }
   ],
   "source": [
    "from sympy import Eq, solve\n",
    "from sympy.parsing.sympy_parser import parse_expr, standard_transformations, implicit_multiplication_application\n",
    "\n",
    "eqs = ['2w + x + 4y + 3z = 5',\n",
    "       'w - 2x + 3z = 3',\n",
    "       '3w + 2x - y + z = -1',\n",
    "       '4x - 5z = -3']\n",
    "transformations=(standard_transformations + (implicit_multiplication_application,))\n",
    "eqs_sympy = [Eq(parse_expr(e.split('=')[0], transformations=transformations),\n",
    "                parse_expr(e.split('=')[1], transformations=transformations))\n",
    "             for e in eqs]\n",
    "sol = solve(eqs_sympy)\n",
    "print(sol)"
   ]
  },
  {
   "cell_type": "code",
   "execution_count": 2,
   "id": "31608735",
   "metadata": {},
   "outputs": [
    {
     "name": "stdout",
     "output_type": "stream",
     "text": [
      "{s_1: 4, s_2: 40, s_3: 20, s_4: -10}\n"
     ]
    }
   ],
   "source": [
    "eqs = ['0*-x_1 + 0*x_2 + s_1 = 4',\n",
    "       '0*4x_1 + 0*5x_2 + s_2 = 40',\n",
    "       '0*5x_1 - 0*2x_2 + s_3 = 20',\n",
    "       '0*5x_1 + 0*2x_2 - s_4 = 10']\n",
    "transformations=(standard_transformations + (implicit_multiplication_application,))\n",
    "eqs_sympy = [Eq(parse_expr(e.split('=')[0], transformations=transformations),\n",
    "                parse_expr(e.split('=')[1], transformations=transformations))\n",
    "             for e in eqs]\n",
    "sol = solve(eqs_sympy)\n",
    "print(sol)"
   ]
  },
  {
   "cell_type": "code",
   "execution_count": 3,
   "id": "e590d713",
   "metadata": {},
   "outputs": [
    {
     "name": "stdout",
     "output_type": "stream",
     "text": [
      "{s_2: 20, s_3: 28, s_4: -2, x_2: 4}\n"
     ]
    }
   ],
   "source": [
    "eqs = ['0*-x_1 + 1*x_2 + 0*s_1 = 4',\n",
    "       '0*4x_1 + 1*5x_2 + s_2 = 40',\n",
    "       '0*5x_1 - 1*2x_2 + s_3 = 20',\n",
    "       '0*5x_1 + 1*2x_2 - s_4 = 10']\n",
    "transformations=(standard_transformations + (implicit_multiplication_application,))\n",
    "eqs_sympy = [Eq(parse_expr(e.split('=')[0], transformations=transformations),\n",
    "                parse_expr(e.split('=')[1], transformations=transformations))\n",
    "             for e in eqs]\n",
    "sol = solve(eqs_sympy)\n",
    "print(sol)"
   ]
  },
  {
   "cell_type": "code",
   "execution_count": 4,
   "id": "d8298d65",
   "metadata": {},
   "outputs": [
    {
     "name": "stdout",
     "output_type": "stream",
     "text": [
      "{s_1: -4, s_3: 36, s_4: 6, x_2: 8}\n"
     ]
    }
   ],
   "source": [
    "eqs = ['0*-x_1 + 1*x_2 + 1*s_1 = 4',\n",
    "       '0*4x_1 + 1*5x_2 + 0*s_2 = 40',\n",
    "       '0*5x_1 - 1*2x_2 + s_3 = 20',\n",
    "       '0*5x_1 + 1*2x_2 - s_4 = 10']\n",
    "transformations=(standard_transformations + (implicit_multiplication_application,))\n",
    "eqs_sympy = [Eq(parse_expr(e.split('=')[0], transformations=transformations),\n",
    "                parse_expr(e.split('=')[1], transformations=transformations))\n",
    "             for e in eqs]\n",
    "sol = solve(eqs_sympy)\n",
    "print(sol)"
   ]
  },
  {
   "cell_type": "code",
   "execution_count": 5,
   "id": "450b4266",
   "metadata": {},
   "outputs": [
    {
     "name": "stdout",
     "output_type": "stream",
     "text": [
      "{s_1: 14, s_2: 90, s_4: -30, x_2: -10}\n"
     ]
    }
   ],
   "source": [
    "eqs = ['0*-x_1 + 1*x_2 + 1*s_1 = 4',\n",
    "       '0*4x_1 + 1*5x_2 + 1*s_2 = 40',\n",
    "       '0*5x_1 - 1*2x_2 + 0*s_3 = 20',\n",
    "       '0*5x_1 + 1*2x_2 - s_4 = 10']\n",
    "transformations=(standard_transformations + (implicit_multiplication_application,))\n",
    "eqs_sympy = [Eq(parse_expr(e.split('=')[0], transformations=transformations),\n",
    "                parse_expr(e.split('=')[1], transformations=transformations))\n",
    "             for e in eqs]\n",
    "sol = solve(eqs_sympy)\n",
    "print(sol)"
   ]
  },
  {
   "cell_type": "code",
   "execution_count": 6,
   "id": "eacbb305",
   "metadata": {},
   "outputs": [
    {
     "name": "stdout",
     "output_type": "stream",
     "text": [
      "{s_1: -1, s_2: 15, s_3: 30, x_2: 5}\n"
     ]
    }
   ],
   "source": [
    "eqs = ['0*-x_1 + 1*x_2 + 1*s_1 = 4',\n",
    "       '0*4x_1 + 1*5x_2 + 1*s_2 = 40',\n",
    "       '0*5x_1 - 1*2x_2 + 1*s_3 = 20',\n",
    "       '0*5x_1 + 1*2x_2 - 0*s_4 = 10'\n",
    "      ]\n",
    "transformations=(standard_transformations + (implicit_multiplication_application,))\n",
    "eqs_sympy = [Eq(parse_expr(e.split('=')[0], transformations=transformations),\n",
    "                parse_expr(e.split('=')[1], transformations=transformations))\n",
    "             for e in eqs]\n",
    "sol = solve(eqs_sympy)\n",
    "print(sol)"
   ]
  },
  {
   "cell_type": "code",
   "execution_count": 7,
   "id": "0a6fadf9",
   "metadata": {},
   "outputs": [
    {
     "name": "stdout",
     "output_type": "stream",
     "text": [
      "{s_2: 56, s_3: 40, s_4: -30, x_1: -4}\n"
     ]
    }
   ],
   "source": [
    "eqs = ['1*-x_1 + 0*x_2 + 0*s_1 = 4',\n",
    "       '1*4x_1 + 0*5x_2 + 1*s_2 = 40',\n",
    "       '1*5x_1 - 0*2x_2 + 1*s_3 = 20',\n",
    "       '1*5x_1 + 0*2x_2 - 1*s_4 = 10'\n",
    "      ]\n",
    "\n",
    "transformations=(standard_transformations + (implicit_multiplication_application,))\n",
    "eqs_sympy = [Eq(parse_expr(e.split('=')[0], transformations=transformations),\n",
    "                parse_expr(e.split('=')[1], transformations=transformations))\n",
    "             for e in eqs]\n",
    "sol = solve(eqs_sympy)\n",
    "print(sol)"
   ]
  },
  {
   "cell_type": "code",
   "execution_count": 8,
   "id": "8ba43ab3",
   "metadata": {},
   "outputs": [
    {
     "name": "stdout",
     "output_type": "stream",
     "text": [
      "{s_1: 14, s_3: -30, s_4: 40, x_1: 10}\n"
     ]
    }
   ],
   "source": [
    "eqs = ['1*-x_1 + 0*x_2 + 1*s_1 = 4',\n",
    "       '1*4x_1 + 0*5x_2 + 0*s_2 = 40',\n",
    "       '1*5x_1 - 0*2x_2 + 1*s_3 = 20',\n",
    "       '1*5x_1 + 0*2x_2 - 1*s_4 = 10'\n",
    "      ]\n",
    "\n",
    "transformations=(standard_transformations + (implicit_multiplication_application,))\n",
    "eqs_sympy = [Eq(parse_expr(e.split('=')[0], transformations=transformations),\n",
    "                parse_expr(e.split('=')[1], transformations=transformations))\n",
    "             for e in eqs]\n",
    "sol = solve(eqs_sympy)\n",
    "print(sol)"
   ]
  },
  {
   "cell_type": "code",
   "execution_count": 9,
   "id": "3da16896",
   "metadata": {},
   "outputs": [
    {
     "name": "stdout",
     "output_type": "stream",
     "text": [
      "{s_1: 8, s_2: 24, s_4: 10, x_1: 4}\n"
     ]
    }
   ],
   "source": [
    "eqs = ['1*-x_1 + 0*x_2 + 1*s_1 = 4',\n",
    "       '1*4x_1 + 0*5x_2 + 1*s_2 = 40',\n",
    "       '1*5x_1 - 0*2x_2 + 0*s_3 = 20',\n",
    "       '1*5x_1 + 0*2x_2 - 1*s_4 = 10'\n",
    "      ]\n",
    "transformations=(standard_transformations + (implicit_multiplication_application,))\n",
    "eqs_sympy = [Eq(parse_expr(e.split('=')[0], transformations=transformations),\n",
    "                parse_expr(e.split('=')[1], transformations=transformations))\n",
    "             for e in eqs]\n",
    "sol = solve(eqs_sympy)\n",
    "print(sol)"
   ]
  },
  {
   "cell_type": "code",
   "execution_count": 10,
   "id": "54d6b36d",
   "metadata": {},
   "outputs": [
    {
     "name": "stdout",
     "output_type": "stream",
     "text": [
      "{s_1: 6, s_2: 32, s_3: 10, x_1: 2}\n"
     ]
    }
   ],
   "source": [
    "eqs = ['1*-x_1 + 0*1x_2 + 1*s_1 = 4',\n",
    "       '1*4x_1 + 0*5x_2 + 1*s_2 = 40',\n",
    "       '1*5x_1 - 0*2x_2 + 1*s_3 = 20',\n",
    "       '1*5x_1 + 0*2x_2 - 0*s_4 = 10'\n",
    "      ]\n",
    "transformations=(standard_transformations + (implicit_multiplication_application,))\n",
    "eqs_sympy = [Eq(parse_expr(e.split('=')[0], transformations=transformations),\n",
    "                parse_expr(e.split('=')[1], transformations=transformations))\n",
    "             for e in eqs]\n",
    "sol = solve(eqs_sympy)\n",
    "print(sol)"
   ]
  },
  {
   "cell_type": "code",
   "execution_count": 11,
   "id": "cc6719d5",
   "metadata": {},
   "outputs": [
    {
     "name": "stdout",
     "output_type": "stream",
     "text": [
      "{s_3: 64/3, s_4: 122/9, x_1: 20/9, x_2: 56/9}\n"
     ]
    }
   ],
   "source": [
    "eqs = ['1*-x_1 + 1*1x_2 + 0*s_1 = 4',\n",
    "       '1*4x_1 + 1*5x_2 + 0*s_2 = 40',\n",
    "       '1*5x_1 - 1*2x_2 + 1*s_3 = 20',\n",
    "       '1*5x_1 + 1*2x_2 - 1*s_4 = 10'\n",
    "      ]\n",
    "transformations=(standard_transformations + (implicit_multiplication_application,))\n",
    "eqs_sympy = [Eq(parse_expr(e.split('=')[0], transformations=transformations),\n",
    "                parse_expr(e.split('=')[1], transformations=transformations))\n",
    "             for e in eqs]\n",
    "sol = solve(eqs_sympy)\n",
    "print(sol)"
   ]
  },
  {
   "cell_type": "code",
   "execution_count": 12,
   "id": "34fe95dc",
   "metadata": {},
   "outputs": [
    {
     "name": "stdout",
     "output_type": "stream",
     "text": [
      "{s_2: -64, s_4: 190/3, x_1: 28/3, x_2: 40/3}\n"
     ]
    }
   ],
   "source": [
    "eqs = ['1*-x_1 + 1*1x_2 + 0*s_1 = 4',\n",
    "       '1*4x_1 + 1*5x_2 + 1*s_2 = 40',\n",
    "       '1*5x_1 - 1*2x_2 + 0*s_3 = 20',\n",
    "       '1*5x_1 + 1*2x_2 - 1*s_4 = 10'\n",
    "      ]\n",
    "transformations=(standard_transformations + (implicit_multiplication_application,))\n",
    "eqs_sympy = [Eq(parse_expr(e.split('=')[0], transformations=transformations),\n",
    "                parse_expr(e.split('=')[1], transformations=transformations))\n",
    "             for e in eqs]\n",
    "sol = solve(eqs_sympy)\n",
    "print(sol)"
   ]
  },
  {
   "cell_type": "code",
   "execution_count": 13,
   "id": "0dbbf47c",
   "metadata": {},
   "outputs": [
    {
     "name": "stdout",
     "output_type": "stream",
     "text": [
      "{s_2: 122/7, s_3: 190/7, x_1: 2/7, x_2: 30/7}\n"
     ]
    }
   ],
   "source": [
    "eqs = ['1*-x_1 + 1*1x_2 + 0*s_1 = 4',\n",
    "       '1*4x_1 + 1*5x_2 + 1*s_2 = 40',\n",
    "       '1*5x_1 - 1*2x_2 + 1*s_3 = 20',\n",
    "       '1*5x_1 + 1*2x_2 - 0*s_4 = 10'\n",
    "      ]\n",
    "transformations=(standard_transformations + (implicit_multiplication_application,))\n",
    "eqs_sympy = [Eq(parse_expr(e.split('=')[0], transformations=transformations),\n",
    "                parse_expr(e.split('=')[1], transformations=transformations))\n",
    "             for e in eqs]\n",
    "sol = solve(eqs_sympy)\n",
    "print(sol)"
   ]
  },
  {
   "cell_type": "code",
   "execution_count": 14,
   "id": "e3cdbb3a",
   "metadata": {},
   "outputs": [
    {
     "name": "stdout",
     "output_type": "stream",
     "text": [
      "{s_1: 64/11, s_4: 270/11, x_1: 60/11, x_2: 40/11}\n"
     ]
    }
   ],
   "source": [
    "eqs = ['1*-x_1 + 1*1x_2 + 1*s_1 = 4',\n",
    "       '1*4x_1 + 1*5x_2 + 0*s_2 = 40',\n",
    "       '1*5x_1 - 1*2x_2 + 0*s_3 = 20',\n",
    "       '1*5x_1 + 1*2x_2 - 1*s_4 = 10'\n",
    "      ]\n",
    "transformations=(standard_transformations + (implicit_multiplication_application,))\n",
    "eqs_sympy = [Eq(parse_expr(e.split('=')[0], transformations=transformations),\n",
    "                parse_expr(e.split('=')[1], transformations=transformations))\n",
    "             for e in eqs]\n",
    "sol = solve(eqs_sympy)\n",
    "print(sol)"
   ]
  },
  {
   "cell_type": "code",
   "execution_count": 15,
   "id": "c7cd266d",
   "metadata": {},
   "outputs": [
    {
     "name": "stdout",
     "output_type": "stream",
     "text": [
      "{s_1: -122/17, s_3: 810/17, x_1: -30/17, x_2: 160/17}\n"
     ]
    }
   ],
   "source": [
    "eqs = ['1*-x_1 + 1*1x_2 + 1*s_1 = 4',\n",
    "       '1*4x_1 + 1*5x_2 + 0*s_2 = 40',\n",
    "       '1*5x_1 - 1*2x_2 + 1*s_3 = 20',\n",
    "       '1*5x_1 + 1*2x_2 - 0*s_4 = 10'\n",
    "      ]\n",
    "transformations=(standard_transformations + (implicit_multiplication_application,))\n",
    "eqs_sympy = [Eq(parse_expr(e.split('=')[0], transformations=transformations),\n",
    "                parse_expr(e.split('=')[1], transformations=transformations))\n",
    "             for e in eqs]\n",
    "sol = solve(eqs_sympy)\n",
    "print(sol)"
   ]
  },
  {
   "cell_type": "code",
   "execution_count": 16,
   "id": "8efe041d",
   "metadata": {},
   "outputs": [
    {
     "name": "stdout",
     "output_type": "stream",
     "text": [
      "{s_1: 19/2, s_2: 81/2, x_1: 3, x_2: -5/2}\n"
     ]
    }
   ],
   "source": [
    "eqs = ['1*-x_1 + 1*1x_2 + 1*s_1 = 4',\n",
    "       '1*4x_1 + 1*5x_2 + 1*s_2 = 40',\n",
    "       '1*5x_1 - 1*2x_2 + 0*s_3 = 20',\n",
    "       '1*5x_1 + 1*2x_2 - 0*s_4 = 10'\n",
    "      ]\n",
    "transformations=(standard_transformations + (implicit_multiplication_application,))\n",
    "eqs_sympy = [Eq(parse_expr(e.split('=')[0], transformations=transformations),\n",
    "                parse_expr(e.split('=')[1], transformations=transformations))\n",
    "             for e in eqs]\n",
    "sol = solve(eqs_sympy)\n",
    "print(sol)"
   ]
  }
 ],
 "metadata": {
  "kernelspec": {
   "display_name": "Python 3",
   "language": "python",
   "name": "python3"
  },
  "language_info": {
   "codemirror_mode": {
    "name": "ipython",
    "version": 3
   },
   "file_extension": ".py",
   "mimetype": "text/x-python",
   "name": "python",
   "nbconvert_exporter": "python",
   "pygments_lexer": "ipython3",
   "version": "3.9.4"
  }
 },
 "nbformat": 4,
 "nbformat_minor": 5
}
